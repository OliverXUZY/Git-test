{
 "cells": [
  {
   "cell_type": "markdown",
   "metadata": {
    "colab_type": "text",
    "id": "baHJuGROS9Ha"
   },
   "source": [
    "STAT 479: Deep Learning (Spring 2019)  \n",
    "Instructor: Sebastian Raschka (sraschka@wisc.edu)  \n",
    "Course website: http://pages.stat.wisc.edu/~sraschka/teaching/stat479-ss2019/  \n",
    "GitHub repository: https://github.com/rasbt/stat479-deep-learning-ss19\n",
    "\n",
    "---"
   ]
  },
  {
   "cell_type": "markdown",
   "metadata": {
    "colab_type": "text",
    "id": "rH4XmErYj5wm"
   },
   "source": [
    "# Homework 4: Implementing a Convolutional Neural Network (40 pts)"
   ]
  },
  {
   "cell_type": "markdown",
   "metadata": {
    "colab_type": "text",
    "id": "z6IWPQ03S9He"
   },
   "source": [
    "In this 4th homework, your task is to implement a convolutional neural network for classifying images in the CIFAR-10 dataset (https://www.cs.toronto.edu/~kriz/cifar.html). \n",
    "\n",
    "### Dataset Overview\n",
    "\n",
    "- The CIFAR-10 dataset contains 60,000 color images with pixel dimensions 32x32. \n",
    "- There are 50,000 training images and 10,000 test images\n",
    "- Shown below is a snapshot showing a random selection for the 10 different object classes (from https://www.cs.toronto.edu/~kriz/cifar.html):\n",
    "\n",
    "![](cifar-snapshot.png)\n",
    "\n",
    "The CIFAR-10 dataset is already made accessible via the PyTorch API as it is a common dataset for benchmarking image classifiers. Hence, you do not have to download the dataset manually -- it will be downloaded automatically when you call\n",
    "\n",
    "```python\n",
    "train_dataset = datasets.CIFAR10(root='data', \n",
    "                                 train=True, \n",
    "                                 transform=transforms.ToTensor(),\n",
    "                                 download=True)\n",
    "```\n",
    "\n",
    "in the provided code cells below for the first time. Thus, keep in mind that calling this function for the first time may be a bit slow depending on your internet connection. On a conventional internet connection, it should be downloaded in a matter of seconds, though.\n",
    "\n",
    "Note that we are **not** using a separate validation dataset in this homework for tuning this network. This is intentional for the purposes of simplicity. However, in a real-world application, you are highly advised to use a validation dataset to tune the hyper parameters of the network as discussed in class.\n",
    "\n",
    "### Your Tasks\n",
    "\n",
    "Your main task is to implement a simple convolutional neural network that is loosely inspired by the AlexNet architecture that one the ImageNet competition in 2012: \n",
    "\n",
    "- Krizhevsky, A., Sutskever, I., & Hinton, G. E. (2012). [Imagenet classification with deep convolutional neural networks. In Advances in neural information processing systems](https://papers.nips.cc/paper/4824-imagenet-classification-with-deep-convolutional-neural-networks) (pp. 1097-1105).\n",
    "\n",
    "Then, you will make several simple modifications to this network architecture to improve its performance.\n",
    "\n",
    "Note that in this homework, as explained above, you will NOT be working with ImageNet but CIFAR-10, which is a much smaller dataset, in order for you to be able to train the network in a timely manner.\n",
    "\n",
    "In particular, you will be asked to first implement a basic convolutional neural network based on AlexNet and then make several improvements to optimize the performance and reduce overfitting. These \"improvements\" include Dropout, BatchNorm, and image augmentation, which will serve as a good exercise for familiarizing yourself with \"Deep Learning Tricks\" as well as convolutional neural networks.\n",
    "\n",
    "Note that the homework is relatively easy and straightforward, but the training of the network in each of the 5 sections will take ~5 min to train on a GPU. On a CPU, it will probably be much longer. Because training on the CPU will take much longer, and because you probably don't want your computer to overheat, I **highly recommend running this homework on a cloud server**, for example, Google Colab (which allows you to use a GPU for free). Since you don't have to download the dataset manually, it should be relatively straightforward to do this homework on Google Colab and then download the solution for submission via Canvas. Please let me know if you have any questions about that. For a Cloud computing refresher, please see: https://github.com/rasbt/stat479-deep-learning-ss19/tree/master/L07_cloud-computing.\n",
    "\n",
    "**The due date for this homework is Friday, 11 April 11:59 pm.** Please start as soon as possible, because while this homework is conceptually straightforward, you have to factor in the computation time (~30 min runtime for the complete notebook if you run this notebook with correct solutions)."
   ]
  },
  {
   "cell_type": "code",
   "execution_count": null,
   "metadata": {
    "colab": {
     "base_uri": "https://localhost:8080/",
     "height": 260
    },
    "colab_type": "code",
    "id": "mpmk_EVbH6t8",
    "outputId": "0581371e-dc42-416a-f5c5-d28a3d4ad570"
   },
   "outputs": [
    {
     "name": "stdout",
     "output_type": "stream",
     "text": [
      "Requirement already satisfied: watermark in /usr/local/lib/python3.6/dist-packages (1.8.1)\n",
      "Requirement already satisfied: ipython in /usr/local/lib/python3.6/dist-packages (from watermark) (5.5.0)\n",
      "Requirement already satisfied: prompt-toolkit<2.0.0,>=1.0.4 in /usr/local/lib/python3.6/dist-packages (from ipython->watermark) (1.0.15)\n",
      "Requirement already satisfied: pickleshare in /usr/local/lib/python3.6/dist-packages (from ipython->watermark) (0.7.5)\n",
      "Requirement already satisfied: setuptools>=18.5 in /usr/local/lib/python3.6/dist-packages (from ipython->watermark) (40.9.0)\n",
      "Requirement already satisfied: pexpect; sys_platform != \"win32\" in /usr/local/lib/python3.6/dist-packages (from ipython->watermark) (4.6.0)\n",
      "Requirement already satisfied: traitlets>=4.2 in /usr/local/lib/python3.6/dist-packages (from ipython->watermark) (4.3.2)\n",
      "Requirement already satisfied: decorator in /usr/local/lib/python3.6/dist-packages (from ipython->watermark) (4.4.0)\n",
      "Requirement already satisfied: pygments in /usr/local/lib/python3.6/dist-packages (from ipython->watermark) (2.1.3)\n",
      "Requirement already satisfied: simplegeneric>0.8 in /usr/local/lib/python3.6/dist-packages (from ipython->watermark) (0.8.1)\n",
      "Requirement already satisfied: wcwidth in /usr/local/lib/python3.6/dist-packages (from prompt-toolkit<2.0.0,>=1.0.4->ipython->watermark) (0.1.7)\n",
      "Requirement already satisfied: six>=1.9.0 in /usr/local/lib/python3.6/dist-packages (from prompt-toolkit<2.0.0,>=1.0.4->ipython->watermark) (1.11.0)\n",
      "Requirement already satisfied: ptyprocess>=0.5 in /usr/local/lib/python3.6/dist-packages (from pexpect; sys_platform != \"win32\"->ipython->watermark) (0.6.0)\n",
      "Requirement already satisfied: ipython-genutils in /usr/local/lib/python3.6/dist-packages (from traitlets>=4.2->ipython->watermark) (0.2.0)\n"
     ]
    }
   ],
   "source": [
    "!pip install watermark"
   ]
  },
  {
   "cell_type": "markdown",
   "metadata": {
    "colab_type": "text",
    "id": "MkoGLH_Tj5wn"
   },
   "source": [
    "## Imports"
   ]
  },
  {
   "cell_type": "code",
   "execution_count": null,
   "metadata": {
    "colab": {},
    "colab_type": "code",
    "id": "ORj09gnrj5wp"
   },
   "outputs": [],
   "source": [
    "###############################\n",
    "### NO NEED TO CHANGE THIS CELL\n",
    "###############################\n",
    "\n",
    "import os\n",
    "import time\n",
    "\n",
    "import numpy as np\n",
    "import pandas as pd\n",
    "\n",
    "import torch\n",
    "import torch.nn as nn\n",
    "import torch.nn.functional as F\n",
    "from torch.utils.data import DataLoader\n",
    "\n",
    "from torchvision import datasets\n",
    "from torchvision import transforms\n",
    "\n",
    "import matplotlib.pyplot as plt\n",
    "from PIL import Image\n",
    "\n",
    "\n",
    "if torch.cuda.is_available():\n",
    "    torch.backends.cudnn.deterministic = True"
   ]
  },
  {
   "cell_type": "code",
   "execution_count": null,
   "metadata": {
    "colab": {
     "base_uri": "https://localhost:8080/",
     "height": 208
    },
    "colab_type": "code",
    "id": "jHAhK56WS9Hn",
    "outputId": "2891d4dd-9d05-4fda-a90d-e49c7c89c2ae"
   },
   "outputs": [
    {
     "name": "stdout",
     "output_type": "stream",
     "text": [
      "The watermark extension is already loaded. To reload it, use:\n",
      "  %reload_ext watermark\n",
      "torch       1.0.1.post2\n",
      "IPython     5.5.0\n",
      "numpy       1.14.6\n",
      "matplotlib  3.0.3\n",
      "pandas      0.22.0\n",
      "PIL         4.1.1\n",
      "torchvision 0.2.2\n",
      "ZhuoyanXU \n",
      "last updated: 2019-04-06\n"
     ]
    }
   ],
   "source": [
    "%load_ext watermark\n",
    "%watermark -a 'ZhuoyanXU' -ud -iv "
   ]
  },
  {
   "cell_type": "markdown",
   "metadata": {
    "colab_type": "text",
    "id": "RsKT3jByS9Hu"
   },
   "source": [
    "<br>\n",
    "<br>"
   ]
  },
  {
   "cell_type": "markdown",
   "metadata": {
    "colab_type": "text",
    "id": "I6hghKPxj5w0"
   },
   "source": [
    "## Model Settings"
   ]
  },
  {
   "cell_type": "code",
   "execution_count": null,
   "metadata": {
    "colab": {},
    "colab_type": "code",
    "id": "NnT0sZIwj5wu"
   },
   "outputs": [],
   "source": [
    "###############################\n",
    "### NO NEED TO CHANGE THIS CELL\n",
    "###############################\n",
    "\n",
    "\n",
    "#-------------------------\n",
    "### SETTINGS\n",
    "#-------------------------\n",
    "\n",
    "# Hyperparameters\n",
    "RANDOM_SEED = 1\n",
    "LEARNING_RATE = 0.001\n",
    "BATCH_SIZE = 256\n",
    "NUM_EPOCHS = 20\n",
    "\n",
    "# Architecture\n",
    "NUM_FEATURES = 32*32\n",
    "NUM_CLASSES = 10\n",
    "\n",
    "# Other\n",
    "DEVICE = \"cuda:0\""
   ]
  },
  {
   "cell_type": "markdown",
   "metadata": {
    "colab_type": "text",
    "id": "mAzA88iPS9Hz"
   },
   "source": [
    "The following code cell that implements the ResNet-34 architecture is a derivative of the code provided at https://pytorch.org/docs/0.4.0/_modules/torchvision/models/resnet.html."
   ]
  },
  {
   "cell_type": "markdown",
   "metadata": {
    "colab_type": "text",
    "id": "HJuedxeYS9H0"
   },
   "source": [
    "<br>\n",
    "<br>"
   ]
  },
  {
   "cell_type": "markdown",
   "metadata": {
    "colab_type": "text",
    "id": "RAodboScj5w6"
   },
   "source": [
    "## Dataset"
   ]
  },
  {
   "cell_type": "code",
   "execution_count": null,
   "metadata": {
    "colab": {
     "base_uri": "https://localhost:8080/",
     "height": 104
    },
    "colab_type": "code",
    "id": "48esS1ZXS9H2",
    "outputId": "148df6c3-0152-4585-f063-b236e5a6a189"
   },
   "outputs": [
    {
     "name": "stdout",
     "output_type": "stream",
     "text": [
      "Files already downloaded and verified\n",
      "Image batch dimensions: torch.Size([256, 3, 32, 32])\n",
      "Image label dimensions: torch.Size([256])\n",
      "Image batch dimensions: torch.Size([256, 3, 32, 32])\n",
      "Image label dimensions: torch.Size([256])\n"
     ]
    }
   ],
   "source": [
    "###############################\n",
    "### NO NEED TO CHANGE THIS CELL\n",
    "###############################\n",
    "\n",
    "#-------------------------\n",
    "### CIFAR-10 Dataset\n",
    "#-------------------------\n",
    "\n",
    "\n",
    "# Note transforms.ToTensor() scales input images\n",
    "# to 0-1 range\n",
    "train_dataset = datasets.CIFAR10(root='data', \n",
    "                                 train=True, \n",
    "                                 transform=transforms.ToTensor(),\n",
    "                                 download=True)\n",
    "\n",
    "test_dataset = datasets.CIFAR10(root='data', \n",
    "                                train=False, \n",
    "                                transform=transforms.ToTensor())\n",
    "\n",
    "\n",
    "train_loader = DataLoader(dataset=train_dataset, \n",
    "                          batch_size=BATCH_SIZE, \n",
    "                          num_workers=8,\n",
    "                          shuffle=True)\n",
    "\n",
    "test_loader = DataLoader(dataset=test_dataset, \n",
    "                         batch_size=BATCH_SIZE,\n",
    "                         num_workers=8,\n",
    "                         shuffle=False)\n",
    "\n",
    "# Checking the dataset\n",
    "for images, labels in train_loader:  \n",
    "    print('Image batch dimensions:', images.shape)\n",
    "    print('Image label dimensions:', labels.shape)\n",
    "    break\n",
    "\n",
    "# Checking the dataset\n",
    "for images, labels in train_loader:  \n",
    "    print('Image batch dimensions:', images.shape)\n",
    "    print('Image label dimensions:', labels.shape)\n",
    "    break"
   ]
  },
  {
   "cell_type": "code",
   "execution_count": null,
   "metadata": {
    "colab": {},
    "colab_type": "code",
    "id": "1WiMSc-lS9H6"
   },
   "outputs": [],
   "source": [
    "###############################\n",
    "### NO NEED TO CHANGE THIS CELL\n",
    "###############################\n",
    "\n",
    "def compute_epoch_loss(model, data_loader):\n",
    "    model.eval()\n",
    "    curr_loss, num_examples = 0., 0\n",
    "    with torch.no_grad():\n",
    "        for features, targets in data_loader:\n",
    "            features = features.to(DEVICE)\n",
    "            targets = targets.to(DEVICE)\n",
    "            logits, probas = model(features)\n",
    "            loss = F.cross_entropy(logits, targets, reduction='sum')\n",
    "            num_examples += targets.size(0)\n",
    "            curr_loss += loss\n",
    "\n",
    "        curr_loss = curr_loss / num_examples\n",
    "        return curr_loss\n",
    "\n",
    "\n",
    "def compute_accuracy(model, data_loader, device):\n",
    "    model.eval()\n",
    "    correct_pred, num_examples = 0, 0\n",
    "    for i, (features, targets) in enumerate(data_loader):\n",
    "            \n",
    "        features = features.to(device)\n",
    "        targets = targets.to(device)\n",
    "\n",
    "        logits, probas = model(features)\n",
    "        _, predicted_labels = torch.max(probas, 1)\n",
    "        num_examples += targets.size(0)\n",
    "        correct_pred += (predicted_labels == targets).sum()\n",
    "    return correct_pred.float()/num_examples * 100"
   ]
  },
  {
   "cell_type": "markdown",
   "metadata": {
    "colab_type": "text",
    "id": "SRboko3JS9H9"
   },
   "source": [
    "\n",
    "<br>\n",
    "<br>"
   ]
  },
  {
   "cell_type": "code",
   "execution_count": null,
   "metadata": {
    "colab": {},
    "colab_type": "code",
    "id": "_lza9t_uj5w1"
   },
   "outputs": [],
   "source": [
    "## 1) Implement a Convolutional Neural Network"
   ]
  },
  {
   "cell_type": "markdown",
   "metadata": {
    "colab_type": "text",
    "id": "ELMRipN7S9IB"
   },
   "source": [
    "In this part, you will be implementing the AlexNet-variant that you will be using and modifying throughout this homework. On purpose, this will be a bit more \"hands-off\" than usual, so that you get a chance to practice implementing neural networks from scratch based on sketches and short descriptions (which is a useful real-world skill as it is quite common to reimplement architectures from literature in order to verify results and compare those architectures to your own methods).\n",
    "\n",
    "The architecture is as follows:\n",
    "\n",
    "![](architecture-1.png)"
   ]
  },
  {
   "cell_type": "markdown",
   "metadata": {
    "colab_type": "text",
    "id": "TIUyaNZfS9IC"
   },
   "source": [
    "Note that I made this network based on AlexNet, as mentioned in the introduction, but there are some differences. Overall though, there are 7 hidden layers in total: 5 convolutional layers and 2 fully-connected layers. There is one output layers mapping the last layer's activations to the classes. For this network, \n",
    "\n",
    "- all hidden layers are connected via ReLU activation functions\n",
    "- the output layer uses a softmax activation function\n",
    "- make sure you return the logits and the softmax output; the logits are used for computing the cross-entropy loss (instead of passing the softmax outputs) for numerical stability reasons as discussed in earlier lectures."
   ]
  },
  {
   "cell_type": "code",
   "execution_count": null,
   "metadata": {
    "colab": {},
    "colab_type": "code",
    "id": "cK6J_0bRS9ID"
   },
   "outputs": [],
   "source": [
    "##########################\n",
    "### MODEL\n",
    "##########################\n",
    "\n",
    "class ConvNet1(nn.Module):\n",
    "\n",
    "    def __init__(self, num_classes=10):\n",
    "        super(ConvNet1, self).__init__()\n",
    "\n",
    "        self.conv1 = nn.Conv2d(3, 64,    kernel_size=5, stride=1, padding=2)\n",
    "        self.pool1 = nn.MaxPool2d(2)\n",
    "        \n",
    "        self.conv2 = nn.Conv2d(64, 192, kernel_size=5, stride = 1, padding = 2)\n",
    "        self.pool2 = nn.MaxPool2d(2)\n",
    "        \n",
    "        self.conv3 = nn.Conv2d(192, 384, kernel_size = 3, stride = 1, padding = 1)\n",
    "        self.pool3 = nn.MaxPool2d(2)\n",
    "        \n",
    "        self.conv4 = nn.Conv2d(384, 256, kernel_size = 5, stride = 1, padding = 2)\n",
    "        self.pool4 = nn.MaxPool2d(2)\n",
    "        \n",
    "        self.conv5 = nn.Conv2d(256, 256, kernel_size = 5, stride = 1, padding = 2)\n",
    "        self.pool5 = nn.MaxPool2d(2)\n",
    "        \n",
    "        \n",
    "        \n",
    "        # ... <add the remaining convolutional layers\n",
    "        # and fully connected layers ...\n",
    "        \n",
    "        \n",
    "        self.linear1 = nn.Linear(256, 4096)\n",
    "        self.linear2 = nn.Linear(4096, 4096)\n",
    "        self.linear3 = nn.Linear(4096, num_classes)  \n",
    "        \n",
    "\n",
    "    def forward(self, x):\n",
    "        \n",
    "        # ... IMPLEMENT FORWARD PASS ...\n",
    "        out_1 = self.conv1(x)\n",
    "        out_1 = torch.relu(out_1)\n",
    "        out_1 = self.pool1(out_1)\n",
    "        \n",
    "        out_2 = self.conv2(out_1)\n",
    "        out_2 = torch.relu(out_2)\n",
    "        out_2 = self.pool2(out_2)\n",
    "        \n",
    "        out_3 = self.conv3(out_2)\n",
    "        out_3 = torch.relu(out_3)\n",
    "        out_3 = self.pool3(out_3)\n",
    "        \n",
    "        out_4 = self.conv4(out_3)\n",
    "        out_4 = torch.relu(out_4)\n",
    "        out_4 = self.pool4(out_4)\n",
    "        \n",
    "        out_5 = self.conv5(out_4)\n",
    "        out_5 = torch.relu(out_5)\n",
    "        out_5 = self.pool5(out_5)\n",
    "        #print(out_5.size())\n",
    "        out_5 = out_5.view(-1,256)\n",
    "        #print(out_5.size())\n",
    "        \n",
    "        out_6 = self.linear1(out_5)\n",
    "        out_6 = torch.relu(out_6)\n",
    "        \n",
    "        out_7 = self.linear2(out_6)\n",
    "        out_7 = torch.relu(out_7)\n",
    "        \n",
    "        out_8 = self.linear3(out_7)\n",
    "        \n",
    "        \n",
    "        logits = out_8\n",
    "        probas = F.softmax(logits, dim=1)\n",
    "        return logits, probas\n",
    "\n",
    "    \n",
    "torch.manual_seed(RANDOM_SEED)\n",
    "\n",
    "model1 = ConvNet1(NUM_CLASSES)\n",
    "model1.to(DEVICE)\n",
    "\n",
    "optimizer = torch.optim.Adam(model1.parameters(), lr=LEARNING_RATE)  "
   ]
  },
  {
   "cell_type": "code",
   "execution_count": null,
   "metadata": {
    "colab": {
     "base_uri": "https://localhost:8080/",
     "height": 2144
    },
    "colab_type": "code",
    "id": "Dzh3ROmRj5w7",
    "outputId": "c66bb81c-c197-439d-bf8d-7f2685a1c8c3",
    "scrolled": false
   },
   "outputs": [
    {
     "name": "stdout",
     "output_type": "stream",
     "text": [
      "Epoch: 001/020 | Batch 0000/0196 | Cost: 2.3027\n",
      "Epoch: 001/020 | Batch 0150/0196 | Cost: 1.6545\n",
      "Epoch: 001/020 | Train: 43.558%\n",
      "Time elapsed: 1.28 min\n",
      "Epoch: 002/020 | Batch 0000/0196 | Cost: 1.5554\n",
      "Epoch: 002/020 | Batch 0150/0196 | Cost: 1.1869\n",
      "Epoch: 002/020 | Train: 60.948%\n",
      "Time elapsed: 2.56 min\n",
      "Epoch: 003/020 | Batch 0000/0196 | Cost: 0.9969\n",
      "Epoch: 003/020 | Batch 0150/0196 | Cost: 0.9897\n",
      "Epoch: 003/020 | Train: 67.840%\n",
      "Time elapsed: 3.85 min\n",
      "Epoch: 004/020 | Batch 0000/0196 | Cost: 0.9396\n",
      "Epoch: 004/020 | Batch 0150/0196 | Cost: 0.7135\n",
      "Epoch: 004/020 | Train: 74.956%\n",
      "Time elapsed: 5.13 min\n",
      "Epoch: 005/020 | Batch 0000/0196 | Cost: 0.8245\n",
      "Epoch: 005/020 | Batch 0150/0196 | Cost: 0.6786\n",
      "Epoch: 005/020 | Train: 78.286%\n",
      "Time elapsed: 6.42 min\n",
      "Epoch: 006/020 | Batch 0000/0196 | Cost: 0.5638\n",
      "Epoch: 006/020 | Batch 0150/0196 | Cost: 0.6567\n",
      "Epoch: 006/020 | Train: 86.012%\n",
      "Time elapsed: 7.70 min\n",
      "Epoch: 007/020 | Batch 0000/0196 | Cost: 0.4650\n",
      "Epoch: 007/020 | Batch 0150/0196 | Cost: 0.4304\n",
      "Epoch: 007/020 | Train: 87.454%\n",
      "Time elapsed: 8.99 min\n",
      "Epoch: 008/020 | Batch 0000/0196 | Cost: 0.3827\n",
      "Epoch: 008/020 | Batch 0150/0196 | Cost: 0.4035\n",
      "Epoch: 008/020 | Train: 91.090%\n",
      "Time elapsed: 10.27 min\n",
      "Epoch: 009/020 | Batch 0000/0196 | Cost: 0.3084\n",
      "Epoch: 009/020 | Batch 0150/0196 | Cost: 0.3581\n",
      "Epoch: 009/020 | Train: 92.492%\n",
      "Time elapsed: 11.56 min\n",
      "Epoch: 010/020 | Batch 0000/0196 | Cost: 0.2158\n",
      "Epoch: 010/020 | Batch 0150/0196 | Cost: 0.2729\n",
      "Epoch: 010/020 | Train: 94.168%\n",
      "Time elapsed: 12.85 min\n",
      "Epoch: 011/020 | Batch 0000/0196 | Cost: 0.1763\n",
      "Epoch: 011/020 | Batch 0150/0196 | Cost: 0.3202\n",
      "Epoch: 011/020 | Train: 95.674%\n",
      "Time elapsed: 14.14 min\n",
      "Epoch: 012/020 | Batch 0000/0196 | Cost: 0.1446\n",
      "Epoch: 012/020 | Batch 0150/0196 | Cost: 0.1460\n",
      "Epoch: 012/020 | Train: 95.970%\n",
      "Time elapsed: 15.42 min\n",
      "Epoch: 013/020 | Batch 0000/0196 | Cost: 0.0940\n",
      "Epoch: 013/020 | Batch 0150/0196 | Cost: 0.2052\n",
      "Epoch: 013/020 | Train: 96.164%\n",
      "Time elapsed: 16.71 min\n",
      "Epoch: 014/020 | Batch 0000/0196 | Cost: 0.0874\n",
      "Epoch: 014/020 | Batch 0150/0196 | Cost: 0.1677\n",
      "Epoch: 014/020 | Train: 97.200%\n",
      "Time elapsed: 18.00 min\n",
      "Epoch: 015/020 | Batch 0000/0196 | Cost: 0.1429\n",
      "Epoch: 015/020 | Batch 0150/0196 | Cost: 0.1119\n",
      "Epoch: 015/020 | Train: 98.338%\n",
      "Time elapsed: 19.29 min\n",
      "Epoch: 016/020 | Batch 0000/0196 | Cost: 0.0251\n",
      "Epoch: 016/020 | Batch 0150/0196 | Cost: 0.0723\n",
      "Epoch: 016/020 | Train: 98.034%\n",
      "Time elapsed: 20.58 min\n",
      "Epoch: 017/020 | Batch 0000/0196 | Cost: 0.0361\n",
      "Epoch: 017/020 | Batch 0150/0196 | Cost: 0.0592\n",
      "Epoch: 017/020 | Train: 98.122%\n",
      "Time elapsed: 21.86 min\n",
      "Epoch: 018/020 | Batch 0000/0196 | Cost: 0.0825\n",
      "Epoch: 018/020 | Batch 0150/0196 | Cost: 0.0572\n",
      "Epoch: 018/020 | Train: 98.478%\n",
      "Time elapsed: 23.15 min\n",
      "Epoch: 019/020 | Batch 0000/0196 | Cost: 0.0289\n",
      "Epoch: 019/020 | Batch 0150/0196 | Cost: 0.1082\n",
      "Epoch: 019/020 | Train: 98.556%\n",
      "Time elapsed: 24.43 min\n",
      "Epoch: 020/020 | Batch 0000/0196 | Cost: 0.0328\n",
      "Epoch: 020/020 | Batch 0150/0196 | Cost: 0.1124\n",
      "Epoch: 020/020 | Train: 98.440%\n",
      "Time elapsed: 25.71 min\n",
      "Total Training Time: 25.71 min\n",
      "Test accuracy: 71.98%\n",
      "Total Time: 25.78 min\n"
     ]
    },
    {
     "data": {
      "image/png": "[encoded data removed]",
      "text/plain": [
       "<Figure size 576x396 with 1 Axes>"
      ]
     },
     "metadata": {
      "tags": []
     },
     "output_type": "display_data"
    },
    {
     "data": {
      "image/png": "[encoded data removed]",
      "text/plain": [
       "<Figure size 576x396 with 1 Axes>"
      ]
     },
     "metadata": {
      "tags": []
     },
     "output_type": "display_data"
    }
   ],
   "source": [
    "###############################\n",
    "### NO NEED TO CHANGE THIS CELL\n",
    "###############################\n",
    "\n",
    "def train(model, train_loader, test_loader):\n",
    "\n",
    "    minibatch_cost, epoch_cost = [], []\n",
    "    start_time = time.time()\n",
    "    for epoch in range(NUM_EPOCHS):\n",
    "\n",
    "        model.train()\n",
    "        for batch_idx, (features, targets) in enumerate(train_loader):\n",
    "\n",
    "            features = features.to(DEVICE)\n",
    "            targets = targets.to(DEVICE)\n",
    "\n",
    "            ### FORWARD AND BACK PROP\n",
    "            logits, probas = model(features)\n",
    "            cost = F.cross_entropy(logits, targets)\n",
    "            optimizer.zero_grad()\n",
    "\n",
    "            cost.backward()\n",
    "            minibatch_cost.append(cost)\n",
    "\n",
    "            ### UPDATE MODEL PARAMETERS\n",
    "            optimizer.step()\n",
    "\n",
    "            ### LOGGING\n",
    "            if not batch_idx % 150:\n",
    "                print ('Epoch: %03d/%03d | Batch %04d/%04d | Cost: %.4f' \n",
    "                       %(epoch+1, NUM_EPOCHS, batch_idx, \n",
    "                         len(train_loader), cost))\n",
    "\n",
    "    \n",
    "        with torch.set_grad_enabled(False): # save memory during inference\n",
    "            print('Epoch: %03d/%03d | Train: %.3f%%' % (\n",
    "                  epoch+1, NUM_EPOCHS, \n",
    "                  compute_accuracy(model, train_loader, device=DEVICE)))\n",
    "            \n",
    "            cost = compute_epoch_loss(model, train_loader)\n",
    "            epoch_cost.append(cost)\n",
    "\n",
    "        print('Time elapsed: %.2f min' % ((time.time() - start_time)/60))\n",
    "\n",
    "    print('Total Training Time: %.2f min' % ((time.time() - start_time)/60))\n",
    "\n",
    "\n",
    "    with torch.set_grad_enabled(False): # save memory during inference\n",
    "        print('Test accuracy: %.2f%%' % (compute_accuracy(model, test_loader, device=DEVICE)))\n",
    "\n",
    "    print('Total Time: %.2f min' % ((time.time() - start_time)/60))\n",
    "    \n",
    "    return minibatch_cost, epoch_cost\n",
    "    \n",
    "\n",
    "minibatch_cost, epoch_cost = train(model1, train_loader, test_loader)\n",
    "\n",
    "\n",
    "plt.plot(range(len(minibatch_cost)), minibatch_cost)\n",
    "plt.ylabel('Cross Entropy')\n",
    "plt.xlabel('Minibatch')\n",
    "plt.show()\n",
    "\n",
    "plt.plot(range(len(epoch_cost)), epoch_cost)\n",
    "plt.ylabel('Cross Entropy')\n",
    "plt.xlabel('Epoch')\n",
    "plt.show()"
   ]
  },
  {
   "cell_type": "code",
   "execution_count": null,
   "metadata": {
    "colab": {},
    "colab_type": "code",
    "id": "9PqnEb3XS9IJ"
   },
   "outputs": [],
   "source": [
    "del model1  # to save memory if you don't use it anymore"
   ]
  },
  {
   "cell_type": "markdown",
   "metadata": {
    "colab_type": "text",
    "id": "_N-tX2lPS9IM"
   },
   "source": [
    "<br>\n",
    "<br>"
   ]
  },
  {
   "cell_type": "markdown",
   "metadata": {
    "colab_type": "text",
    "id": "Mqhm3leBS9IN"
   },
   "source": [
    "## 2) Adding Dropout"
   ]
  },
  {
   "cell_type": "markdown",
   "metadata": {
    "colab_type": "text",
    "id": "kLkJsaFjS9IO"
   },
   "source": [
    "In this second part, your task is now to add dropout layers to reduce overfitting. You can copy&paste your architecture from above and make the appropriate modifications. In particular,\n",
    "\n",
    "- place a Dropout2d (this is also referred to as \"spatial dropout\"; will be explained in the lecture) before each maxpooling layer with dropout probability p=0.2,\n",
    "- place a regular dropout after each fully connected layer with probability p=0.5, except for the last (output) layer.\n",
    "\n",
    "The architecture is as follows (changes, compared to the previous section, are highlighted in red):\n",
    "\n",
    "![](architecture-2.png)"
   ]
  },
  {
   "cell_type": "code",
   "execution_count": null,
   "metadata": {
    "colab": {
     "base_uri": "https://localhost:8080/",
     "height": 2144
    },
    "colab_type": "code",
    "id": "uJrb2YTTS9IO",
    "outputId": "da98e22b-ab76-410d-db81-70f16e430c78"
   },
   "outputs": [
    {
     "name": "stdout",
     "output_type": "stream",
     "text": [
      "Epoch: 001/020 | Batch 0000/0196 | Cost: 2.3037\n",
      "Epoch: 001/020 | Batch 0150/0196 | Cost: 1.6928\n",
      "Epoch: 001/020 | Train: 41.130%\n",
      "Time elapsed: 1.29 min\n",
      "Epoch: 002/020 | Batch 0000/0196 | Cost: 1.6406\n",
      "Epoch: 002/020 | Batch 0150/0196 | Cost: 1.3664\n",
      "Epoch: 002/020 | Train: 55.256%\n",
      "Time elapsed: 2.59 min\n",
      "Epoch: 003/020 | Batch 0000/0196 | Cost: 1.3022\n",
      "Epoch: 003/020 | Batch 0150/0196 | Cost: 1.1661\n",
      "Epoch: 003/020 | Train: 64.172%\n",
      "Time elapsed: 3.88 min\n",
      "Epoch: 004/020 | Batch 0000/0196 | Cost: 1.0821\n",
      "Epoch: 004/020 | Batch 0150/0196 | Cost: 0.9865\n",
      "Epoch: 004/020 | Train: 68.942%\n",
      "Time elapsed: 5.18 min\n",
      "Epoch: 005/020 | Batch 0000/0196 | Cost: 1.0576\n",
      "Epoch: 005/020 | Batch 0150/0196 | Cost: 0.8885\n",
      "Epoch: 005/020 | Train: 74.084%\n",
      "Time elapsed: 6.47 min\n",
      "Epoch: 006/020 | Batch 0000/0196 | Cost: 0.6961\n",
      "Epoch: 006/020 | Batch 0150/0196 | Cost: 0.8526\n",
      "Epoch: 006/020 | Train: 75.778%\n",
      "Time elapsed: 7.77 min\n",
      "Epoch: 007/020 | Batch 0000/0196 | Cost: 1.0108\n",
      "Epoch: 007/020 | Batch 0150/0196 | Cost: 0.9355\n",
      "Epoch: 007/020 | Train: 76.898%\n",
      "Time elapsed: 9.06 min\n",
      "Epoch: 008/020 | Batch 0000/0196 | Cost: 0.9103\n",
      "Epoch: 008/020 | Batch 0150/0196 | Cost: 0.7798\n",
      "Epoch: 008/020 | Train: 80.480%\n",
      "Time elapsed: 10.36 min\n",
      "Epoch: 009/020 | Batch 0000/0196 | Cost: 0.9215\n",
      "Epoch: 009/020 | Batch 0150/0196 | Cost: 0.7566\n",
      "Epoch: 009/020 | Train: 81.336%\n",
      "Time elapsed: 11.65 min\n",
      "Epoch: 010/020 | Batch 0000/0196 | Cost: 0.7269\n",
      "Epoch: 010/020 | Batch 0150/0196 | Cost: 0.6273\n",
      "Epoch: 010/020 | Train: 84.930%\n",
      "Time elapsed: 12.95 min\n",
      "Epoch: 011/020 | Batch 0000/0196 | Cost: 0.6769\n",
      "Epoch: 011/020 | Batch 0150/0196 | Cost: 0.8000\n",
      "Epoch: 011/020 | Train: 85.382%\n",
      "Time elapsed: 14.24 min\n",
      "Epoch: 012/020 | Batch 0000/0196 | Cost: 0.7890\n",
      "Epoch: 012/020 | Batch 0150/0196 | Cost: 0.7008\n",
      "Epoch: 012/020 | Train: 88.078%\n",
      "Time elapsed: 15.54 min\n",
      "Epoch: 013/020 | Batch 0000/0196 | Cost: 0.6057\n",
      "Epoch: 013/020 | Batch 0150/0196 | Cost: 0.6779\n",
      "Epoch: 013/020 | Train: 86.526%\n",
      "Time elapsed: 16.83 min\n",
      "Epoch: 014/020 | Batch 0000/0196 | Cost: 0.6183\n",
      "Epoch: 014/020 | Batch 0150/0196 | Cost: 0.5116\n",
      "Epoch: 014/020 | Train: 88.778%\n",
      "Time elapsed: 18.12 min\n",
      "Epoch: 015/020 | Batch 0000/0196 | Cost: 0.6983\n",
      "Epoch: 015/020 | Batch 0150/0196 | Cost: 0.5437\n",
      "Epoch: 015/020 | Train: 89.846%\n",
      "Time elapsed: 19.41 min\n",
      "Epoch: 016/020 | Batch 0000/0196 | Cost: 0.4079\n",
      "Epoch: 016/020 | Batch 0150/0196 | Cost: 0.4604\n",
      "Epoch: 016/020 | Train: 91.166%\n",
      "Time elapsed: 20.71 min\n",
      "Epoch: 017/020 | Batch 0000/0196 | Cost: 0.4947\n",
      "Epoch: 017/020 | Batch 0150/0196 | Cost: 0.5159\n",
      "Epoch: 017/020 | Train: 92.020%\n",
      "Time elapsed: 22.00 min\n",
      "Epoch: 018/020 | Batch 0000/0196 | Cost: 0.4497\n",
      "Epoch: 018/020 | Batch 0150/0196 | Cost: 0.5267\n",
      "Epoch: 018/020 | Train: 93.076%\n",
      "Time elapsed: 23.30 min\n",
      "Epoch: 019/020 | Batch 0000/0196 | Cost: 0.4413\n",
      "Epoch: 019/020 | Batch 0150/0196 | Cost: 0.5540\n",
      "Epoch: 019/020 | Train: 93.690%\n",
      "Time elapsed: 24.60 min\n",
      "Epoch: 020/020 | Batch 0000/0196 | Cost: 0.3455\n",
      "Epoch: 020/020 | Batch 0150/0196 | Cost: 0.4163\n",
      "Epoch: 020/020 | Train: 94.112%\n",
      "Time elapsed: 25.90 min\n",
      "Total Training Time: 25.90 min\n",
      "Test accuracy: 75.81%\n",
      "Total Time: 25.96 min\n"
     ]
    },
    {
     "data": {
      "image/png": "[encoded data removed]",
      "text/plain": [
       "<Figure size 576x396 with 1 Axes>"
      ]
     },
     "metadata": {
      "tags": []
     },
     "output_type": "display_data"
    },
    {
     "data": {
      "image/png": "[encoded data removed]",
      "text/plain": [
       "<Figure size 576x396 with 1 Axes>"
      ]
     },
     "metadata": {
      "tags": []
     },
     "output_type": "display_data"
    }
   ],
   "source": [
    "##########################\n",
    "### MODEL\n",
    "##########################\n",
    "\n",
    "class ConvNet2(nn.Module):\n",
    "\n",
    "    def __init__(self, num_classes=10):\n",
    "        super(ConvNet2, self).__init__()\n",
    "        \n",
    "        self.conv1 = nn.Conv2d(3, 64,    kernel_size=5, stride=1, padding=2)\n",
    "        self.pool1 = nn.MaxPool2d(2)\n",
    "        \n",
    "        self.conv2 = nn.Conv2d(64, 192, kernel_size=5, stride = 1, padding = 2)\n",
    "        self.pool2 = nn.MaxPool2d(2)\n",
    "        self.dropout2 = nn.Dropout2d(0.2)\n",
    "        \n",
    "        self.conv3 = nn.Conv2d(192, 384, kernel_size = 3, stride = 1, padding = 1)\n",
    "        self.pool3 = nn.MaxPool2d(2)\n",
    "        self.dropout3 = nn.Dropout2d(0.2)\n",
    "        \n",
    "        self.conv4 = nn.Conv2d(384, 256, kernel_size = 5, stride = 1, padding = 2)\n",
    "        self.pool4 = nn.MaxPool2d(2)\n",
    "        self.dropout4 = nn.Dropout2d(0.2)\n",
    "        \n",
    "        self.conv5 = nn.Conv2d(256, 256, kernel_size = 5, stride = 1, padding = 2)\n",
    "        self.pool5 = nn.MaxPool2d(2)\n",
    "        self.dropout5 = nn.Dropout2d(0.2)\n",
    "        \n",
    "        \n",
    "        self.linear1 = nn.Linear(256, 4096)\n",
    "        self.lin_drop_1 = nn.Dropout(0.5)\n",
    "        self.linear2 = nn.Linear(4096, 4096)\n",
    "        self.lin_drop_2 = nn.Dropout(0.5)\n",
    "        self.linear3 = nn.Linear(4096, num_classes) \n",
    "        #### YOUR CODE\n",
    "        \n",
    "\n",
    "    def forward(self, x):\n",
    "\n",
    "         # ... IMPLEMENT FORWARD PASS ...\n",
    "        out_1 = self.conv1(x)\n",
    "        out_1 = torch.relu(out_1)\n",
    "        out_1 = self.pool1(out_1)\n",
    "        \n",
    "        out_2 = self.conv2(out_1)\n",
    "        out_2 = self.dropout2(out_2)\n",
    "        out_2 = torch.relu(out_2)\n",
    "        out_2 = self.pool2(out_2)\n",
    "        \n",
    "        out_3 = self.conv3(out_2)\n",
    "        out_3 = self.dropout3(out_3)\n",
    "        out_3 = torch.relu(out_3)\n",
    "        out_3 = self.pool3(out_3)\n",
    "        \n",
    "        out_4 = self.conv4(out_3)\n",
    "        out_4 = self.dropout4(out_4)\n",
    "        out_4 = torch.relu(out_4)\n",
    "        out_4 = self.pool4(out_4)\n",
    "        \n",
    "        out_5 = self.conv5(out_4)\n",
    "        out_5 = self.dropout5(out_5)\n",
    "        out_5 = self.pool5(out_5)\n",
    "        out_5 = torch.relu(out_5)\n",
    "        #print(out_5.size())\n",
    "        out_5 = out_5.view(-1,256)\n",
    "        #print(out_5.size())\n",
    "        \n",
    "        out_6 = self.linear1(out_5)\n",
    "        out_6 = torch.relu(out_6)\n",
    "        out_6 = self.lin_drop_1(out_6)\n",
    "        \n",
    "        out_7 = self.linear2(out_6)\n",
    "        out_7 = torch.relu(out_7)\n",
    "        out_7 = self.lin_drop_2(out_7)\n",
    "        \n",
    "        out_8 = self.linear3(out_7)\n",
    "        \n",
    "        \n",
    "        logits = out_8\n",
    "        probas = F.softmax(logits, dim=1)\n",
    "        return logits, probas\n",
    "\n",
    "    \n",
    "torch.manual_seed(RANDOM_SEED)\n",
    "\n",
    "model2 = ConvNet2(NUM_CLASSES)\n",
    "model2.to(DEVICE)\n",
    "\n",
    "optimizer = torch.optim.Adam(model2.parameters(), lr=LEARNING_RATE)\n",
    "\n",
    "minibatch_cost, epoch_cost = train(model2, train_loader, test_loader)\n",
    "\n",
    "\n",
    "plt.plot(range(len(minibatch_cost)), minibatch_cost)\n",
    "plt.ylabel('Cross Entropy')\n",
    "plt.xlabel('Minibatch')\n",
    "plt.show()\n",
    "\n",
    "plt.plot(range(len(epoch_cost)), epoch_cost)\n",
    "plt.ylabel('Cross Entropy')\n",
    "plt.xlabel('Epoch')\n",
    "plt.show()"
   ]
  },
  {
   "cell_type": "code",
   "execution_count": null,
   "metadata": {
    "colab": {},
    "colab_type": "code",
    "id": "17rc4wAoS9IS"
   },
   "outputs": [],
   "source": [
    "del model2  # to save memory if you don't use it anymore"
   ]
  },
  {
   "cell_type": "markdown",
   "metadata": {
    "colab_type": "text",
    "id": "phTaE__2S9IV"
   },
   "source": [
    "<br>\n",
    "<br>"
   ]
  },
  {
   "cell_type": "markdown",
   "metadata": {
    "colab_type": "text",
    "id": "acvbR5u9S9IW"
   },
   "source": [
    "## 3) Add BatchNorm"
   ]
  },
  {
   "cell_type": "markdown",
   "metadata": {
    "colab_type": "text",
    "id": "DXjJKFGZS9IY"
   },
   "source": [
    "In this 3rd part, you are now going to add BatchNorm layers to further improve the performance of the network. This use BatchNorm2D for the convolutional layers and BatchNorm1D for the fully connected layers.\n",
    "\n",
    "\n",
    "The architecture is as follows (changes, compared to the previous section, are highlighted in red):\n",
    "\n",
    "![](architecture-3.png)"
   ]
  },
  {
   "cell_type": "code",
   "execution_count": null,
   "metadata": {
    "colab": {
     "base_uri": "https://localhost:8080/",
     "height": 2144
    },
    "colab_type": "code",
    "id": "MOHr0-CqS9Ia",
    "outputId": "251f2b5d-7660-461d-f70c-d233a463853a"
   },
   "outputs": [
    {
     "name": "stdout",
     "output_type": "stream",
     "text": [
      "Epoch: 001/020 | Batch 0000/0196 | Cost: 2.3104\n",
      "Epoch: 001/020 | Batch 0150/0196 | Cost: 1.4371\n",
      "Epoch: 001/020 | Train: 37.856%\n",
      "Time elapsed: 1.38 min\n",
      "Epoch: 002/020 | Batch 0000/0196 | Cost: 1.2976\n",
      "Epoch: 002/020 | Batch 0150/0196 | Cost: 1.1769\n",
      "Epoch: 002/020 | Train: 62.964%\n",
      "Time elapsed: 2.77 min\n",
      "Epoch: 003/020 | Batch 0000/0196 | Cost: 0.9654\n",
      "Epoch: 003/020 | Batch 0150/0196 | Cost: 0.9625\n",
      "Epoch: 003/020 | Train: 67.960%\n",
      "Time elapsed: 4.16 min\n",
      "Epoch: 004/020 | Batch 0000/0196 | Cost: 0.9540\n",
      "Epoch: 004/020 | Batch 0150/0196 | Cost: 0.8290\n",
      "Epoch: 004/020 | Train: 72.546%\n",
      "Time elapsed: 5.55 min\n",
      "Epoch: 005/020 | Batch 0000/0196 | Cost: 0.6693\n",
      "Epoch: 005/020 | Batch 0150/0196 | Cost: 0.6384\n",
      "Epoch: 005/020 | Train: 73.248%\n",
      "Time elapsed: 6.94 min\n",
      "Epoch: 006/020 | Batch 0000/0196 | Cost: 0.6441\n",
      "Epoch: 006/020 | Batch 0150/0196 | Cost: 0.6486\n",
      "Epoch: 006/020 | Train: 83.966%\n",
      "Time elapsed: 8.32 min\n",
      "Epoch: 007/020 | Batch 0000/0196 | Cost: 0.5800\n",
      "Epoch: 007/020 | Batch 0150/0196 | Cost: 0.6165\n",
      "Epoch: 007/020 | Train: 86.642%\n",
      "Time elapsed: 9.70 min\n",
      "Epoch: 008/020 | Batch 0000/0196 | Cost: 0.4683\n",
      "Epoch: 008/020 | Batch 0150/0196 | Cost: 0.4859\n",
      "Epoch: 008/020 | Train: 88.736%\n",
      "Time elapsed: 11.09 min\n",
      "Epoch: 009/020 | Batch 0000/0196 | Cost: 0.4478\n",
      "Epoch: 009/020 | Batch 0150/0196 | Cost: 0.3948\n",
      "Epoch: 009/020 | Train: 88.936%\n",
      "Time elapsed: 12.46 min\n",
      "Epoch: 010/020 | Batch 0000/0196 | Cost: 0.3437\n",
      "Epoch: 010/020 | Batch 0150/0196 | Cost: 0.3348\n",
      "Epoch: 010/020 | Train: 93.098%\n",
      "Time elapsed: 13.86 min\n",
      "Epoch: 011/020 | Batch 0000/0196 | Cost: 0.3483\n",
      "Epoch: 011/020 | Batch 0150/0196 | Cost: 0.3196\n",
      "Epoch: 011/020 | Train: 93.986%\n",
      "Time elapsed: 15.23 min\n",
      "Epoch: 012/020 | Batch 0000/0196 | Cost: 0.2027\n",
      "Epoch: 012/020 | Batch 0150/0196 | Cost: 0.2681\n",
      "Epoch: 012/020 | Train: 94.110%\n",
      "Time elapsed: 16.64 min\n",
      "Epoch: 013/020 | Batch 0000/0196 | Cost: 0.2161\n",
      "Epoch: 013/020 | Batch 0150/0196 | Cost: 0.3488\n",
      "Epoch: 013/020 | Train: 91.656%\n",
      "Time elapsed: 18.06 min\n",
      "Epoch: 014/020 | Batch 0000/0196 | Cost: 0.2196\n",
      "Epoch: 014/020 | Batch 0150/0196 | Cost: 0.1778\n",
      "Epoch: 014/020 | Train: 97.044%\n",
      "Time elapsed: 19.46 min\n",
      "Epoch: 015/020 | Batch 0000/0196 | Cost: 0.1554\n",
      "Epoch: 015/020 | Batch 0150/0196 | Cost: 0.3055\n",
      "Epoch: 015/020 | Train: 94.948%\n",
      "Time elapsed: 20.86 min\n",
      "Epoch: 016/020 | Batch 0000/0196 | Cost: 0.1356\n",
      "Epoch: 016/020 | Batch 0150/0196 | Cost: 0.1567\n",
      "Epoch: 016/020 | Train: 96.966%\n",
      "Time elapsed: 22.25 min\n",
      "Epoch: 017/020 | Batch 0000/0196 | Cost: 0.1040\n",
      "Epoch: 017/020 | Batch 0150/0196 | Cost: 0.1361\n",
      "Epoch: 017/020 | Train: 98.480%\n",
      "Time elapsed: 23.65 min\n",
      "Epoch: 018/020 | Batch 0000/0196 | Cost: 0.1060\n",
      "Epoch: 018/020 | Batch 0150/0196 | Cost: 0.0853\n",
      "Epoch: 018/020 | Train: 98.534%\n",
      "Time elapsed: 25.03 min\n",
      "Epoch: 019/020 | Batch 0000/0196 | Cost: 0.1464\n",
      "Epoch: 019/020 | Batch 0150/0196 | Cost: 0.1269\n",
      "Epoch: 019/020 | Train: 97.706%\n",
      "Time elapsed: 26.43 min\n",
      "Epoch: 020/020 | Batch 0000/0196 | Cost: 0.1209\n",
      "Epoch: 020/020 | Batch 0150/0196 | Cost: 0.1667\n",
      "Epoch: 020/020 | Train: 98.468%\n",
      "Time elapsed: 27.83 min\n",
      "Total Training Time: 27.83 min\n",
      "Test accuracy: 81.24%\n",
      "Total Time: 27.90 min\n"
     ]
    },
    {
     "data": {
      "image/png": "[encoded data removed]",
      "text/plain": [
       "<Figure size 576x396 with 1 Axes>"
      ]
     },
     "metadata": {
      "tags": []
     },
     "output_type": "display_data"
    },
    {
     "data": {
      "image/png": "[encoded data removed]",
      "text/plain": [
       "<Figure size 576x396 with 1 Axes>"
      ]
     },
     "metadata": {
      "tags": []
     },
     "output_type": "display_data"
    }
   ],
   "source": [
    "##########################\n",
    "### MODEL\n",
    "##########################\n",
    "\n",
    "class ConvNet3(nn.Module):\n",
    "\n",
    "    def __init__(self, num_classes=10):\n",
    "        super(ConvNet3, self).__init__()\n",
    "        \n",
    "        #### YOUR CODE\n",
    "        self.conv1 = nn.Conv2d(3, 64,    kernel_size=5, stride=1, padding=2)\n",
    "        self.pool1 = nn.MaxPool2d(2)\n",
    "        \n",
    "        self.conv2 = nn.Conv2d(64, 192, kernel_size=5, stride = 1, padding = 2)\n",
    "        self.pool2 = nn.MaxPool2d(2)\n",
    "        self.dropout2 = nn.Dropout2d(0.2)\n",
    "        self.batch2 = nn.BatchNorm2d(192)\n",
    "        \n",
    "        self.conv3 = nn.Conv2d(192, 384, kernel_size = 3, stride = 1, padding = 1)\n",
    "        self.pool3 = nn.MaxPool2d(2)\n",
    "        self.dropout3 = nn.Dropout2d(0.2)\n",
    "        self.batch3 = nn.BatchNorm2d(384)\n",
    "        \n",
    "        self.conv4 = nn.Conv2d(384, 256, kernel_size = 5, stride = 1, padding = 2)\n",
    "        self.pool4 = nn.MaxPool2d(2)\n",
    "        self.dropout4 = nn.Dropout2d(0.2)\n",
    "        self.batch4 = nn.BatchNorm2d(256)\n",
    "        \n",
    "        self.conv5 = nn.Conv2d(256, 256, kernel_size = 5, stride = 1, padding = 2)\n",
    "        self.pool5 = nn.MaxPool2d(2)\n",
    "        self.dropout5 = nn.Dropout2d(0.2)\n",
    "        self.batch5 = nn.BatchNorm2d(256)\n",
    "        \n",
    "        \n",
    "        self.linear1 = nn.Linear(256, 4096)\n",
    "        self.lin_drop_1 = nn.Dropout(0.5)\n",
    "        self.lin_batch_1 = nn.BatchNorm1d(4096)\n",
    "        \n",
    "        self.linear2 = nn.Linear(4096, 4096)\n",
    "        self.lin_drop_2 = nn.Dropout(0.5)\n",
    "        self.lin_batch_2 = nn.BatchNorm1d(4096)\n",
    "        \n",
    "        self.linear3 = nn.Linear(4096, num_classes) \n",
    "\n",
    "    def forward(self, x):\n",
    "\n",
    "        #### YOUR CODE\n",
    "        out_1 = self.conv1(x)\n",
    "        out_1 = torch.relu(out_1)\n",
    "        out_1 = self.pool1(out_1)\n",
    "        \n",
    "        out_2 = self.conv2(out_1)\n",
    "        out_2 = self.batch2(out_2)\n",
    "        out_2 = self.dropout2(out_2)\n",
    "        out_2 = torch.relu(out_2)\n",
    "        out_2 = self.pool2(out_2)\n",
    "        \n",
    "        out_3 = self.conv3(out_2)\n",
    "        out_3 = self.batch3(out_3)\n",
    "        out_3 = self.dropout3(out_3)\n",
    "        out_3 = torch.relu(out_3)\n",
    "        out_3 = self.pool3(out_3)\n",
    "        \n",
    "        out_4 = self.conv4(out_3)\n",
    "        out_4 = self.batch4(out_4)\n",
    "        out_4 = self.dropout4(out_4)\n",
    "        out_4 = torch.relu(out_4)\n",
    "        out_4 = self.pool4(out_4)\n",
    "        \n",
    "        out_5 = self.conv5(out_4)\n",
    "        out_5 = self.batch5(out_5)\n",
    "        out_5 = self.dropout5(out_5)\n",
    "        out_5 = self.pool5(out_5)\n",
    "        out_5 = torch.relu(out_5)\n",
    "        #print(out_5.size())\n",
    "        out_5 = out_5.view(-1,256)\n",
    "        #print(out_5.size())\n",
    "        \n",
    "        out_6 = self.linear1(out_5)\n",
    "        out_6 = self.lin_batch_1(out_6)\n",
    "        out_6 = torch.relu(out_6)\n",
    "        out_6 = self.lin_drop_1(out_6)\n",
    "        \n",
    "        out_7 = self.linear2(out_6)\n",
    "        out_7 = self.lin_batch_2(out_7)\n",
    "        out_7 = torch.relu(out_7)\n",
    "        out_7 = self.lin_drop_2(out_7)\n",
    "        \n",
    "        out_8 = self.linear3(out_7)\n",
    "        \n",
    "        \n",
    "        logits = out_8\n",
    "        probas = F.softmax(logits, dim=1)\n",
    "        return logits, probas\n",
    "\n",
    "\n",
    "    \n",
    "torch.manual_seed(RANDOM_SEED)\n",
    "\n",
    "model3 = ConvNet3(NUM_CLASSES)\n",
    "model3.to(DEVICE)\n",
    "\n",
    "optimizer = torch.optim.Adam(model3.parameters(), lr=LEARNING_RATE)\n",
    "\n",
    "minibatch_cost, epoch_cost = train(model3, train_loader, test_loader)\n",
    "\n",
    "\n",
    "plt.plot(range(len(minibatch_cost)), minibatch_cost)\n",
    "plt.ylabel('Cross Entropy')\n",
    "plt.xlabel('Minibatch')\n",
    "plt.show()\n",
    "\n",
    "plt.plot(range(len(epoch_cost)), epoch_cost)\n",
    "plt.ylabel('Cross Entropy')\n",
    "plt.xlabel('Epoch')\n",
    "plt.show()"
   ]
  },
  {
   "cell_type": "code",
   "execution_count": null,
   "metadata": {
    "colab": {},
    "colab_type": "code",
    "id": "tHHxiz1OS9Ih"
   },
   "outputs": [],
   "source": [
    "del model3  # to save memory if you don't use it anymore"
   ]
  },
  {
   "cell_type": "markdown",
   "metadata": {
    "colab_type": "text",
    "id": "kAalxxJXS9Il"
   },
   "source": [
    "<br>\n",
    "<br>"
   ]
  },
  {
   "cell_type": "markdown",
   "metadata": {
    "colab_type": "text",
    "id": "OWhRhx1aS9In"
   },
   "source": [
    "## 4) Going All-Convolutional"
   ]
  },
  {
   "cell_type": "markdown",
   "metadata": {
    "colab_type": "text",
    "id": "h2p4cL-kS9Io"
   },
   "source": [
    "In this 4th part, your task is to remove all maxpooling layers and replace the fully-connected layers by convolutional layers. Note that the number of elements of the activation tensors in the hidden layers should not change. I.e., when you remove the max-pooling layers, you need to increase the stride of the convolutional layers from 1 to 2 to achieve the same scaling. Furthermore, you can replace a fully-connected conmvolutional layer by a convolutional layer using stride=1 and a kernel with height and width equal to 1.\n",
    "\n",
    "The new architecture is as follows (changes, compared to the previous section, are highlighted in red):\n",
    "\n",
    "![](architecture-4.png)"
   ]
  },
  {
   "cell_type": "code",
   "execution_count": null,
   "metadata": {
    "colab": {
     "base_uri": "https://localhost:8080/",
     "height": 2144
    },
    "colab_type": "code",
    "id": "bDvfZS1bS9Io",
    "outputId": "08c3cea8-1ca8-4f1f-fbfa-60a7495b68f4"
   },
   "outputs": [
    {
     "name": "stdout",
     "output_type": "stream",
     "text": [
      "Epoch: 001/020 | Batch 0000/0196 | Cost: 2.3304\n",
      "Epoch: 001/020 | Batch 0150/0196 | Cost: 1.4196\n",
      "Epoch: 001/020 | Train: 54.986%\n",
      "Time elapsed: 1.19 min\n",
      "Epoch: 002/020 | Batch 0000/0196 | Cost: 1.3113\n",
      "Epoch: 002/020 | Batch 0150/0196 | Cost: 1.2290\n",
      "Epoch: 002/020 | Train: 58.924%\n",
      "Time elapsed: 2.39 min\n",
      "Epoch: 003/020 | Batch 0000/0196 | Cost: 1.1169\n",
      "Epoch: 003/020 | Batch 0150/0196 | Cost: 1.0646\n",
      "Epoch: 003/020 | Train: 68.768%\n",
      "Time elapsed: 3.60 min\n",
      "Epoch: 004/020 | Batch 0000/0196 | Cost: 1.0309\n",
      "Epoch: 004/020 | Batch 0150/0196 | Cost: 0.8548\n",
      "Epoch: 004/020 | Train: 67.826%\n",
      "Time elapsed: 4.80 min\n",
      "Epoch: 005/020 | Batch 0000/0196 | Cost: 0.8039\n",
      "Epoch: 005/020 | Batch 0150/0196 | Cost: 0.7226\n",
      "Epoch: 005/020 | Train: 80.316%\n",
      "Time elapsed: 6.00 min\n",
      "Epoch: 006/020 | Batch 0000/0196 | Cost: 0.6716\n",
      "Epoch: 006/020 | Batch 0150/0196 | Cost: 0.7916\n",
      "Epoch: 006/020 | Train: 77.450%\n",
      "Time elapsed: 7.20 min\n",
      "Epoch: 007/020 | Batch 0000/0196 | Cost: 0.5863\n",
      "Epoch: 007/020 | Batch 0150/0196 | Cost: 0.5972\n",
      "Epoch: 007/020 | Train: 78.888%\n",
      "Time elapsed: 8.40 min\n",
      "Epoch: 008/020 | Batch 0000/0196 | Cost: 0.6082\n",
      "Epoch: 008/020 | Batch 0150/0196 | Cost: 0.5476\n",
      "Epoch: 008/020 | Train: 89.154%\n",
      "Time elapsed: 9.60 min\n",
      "Epoch: 009/020 | Batch 0000/0196 | Cost: 0.4542\n",
      "Epoch: 009/020 | Batch 0150/0196 | Cost: 0.4857\n",
      "Epoch: 009/020 | Train: 89.408%\n",
      "Time elapsed: 10.80 min\n",
      "Epoch: 010/020 | Batch 0000/0196 | Cost: 0.3384\n",
      "Epoch: 010/020 | Batch 0150/0196 | Cost: 0.4042\n",
      "Epoch: 010/020 | Train: 92.666%\n",
      "Time elapsed: 12.01 min\n",
      "Epoch: 011/020 | Batch 0000/0196 | Cost: 0.4461\n",
      "Epoch: 011/020 | Batch 0150/0196 | Cost: 0.3880\n",
      "Epoch: 011/020 | Train: 94.832%\n",
      "Time elapsed: 13.21 min\n",
      "Epoch: 012/020 | Batch 0000/0196 | Cost: 0.2278\n",
      "Epoch: 012/020 | Batch 0150/0196 | Cost: 0.3343\n",
      "Epoch: 012/020 | Train: 95.578%\n",
      "Time elapsed: 14.41 min\n",
      "Epoch: 013/020 | Batch 0000/0196 | Cost: 0.3166\n",
      "Epoch: 013/020 | Batch 0150/0196 | Cost: 0.3920\n",
      "Epoch: 013/020 | Train: 96.960%\n",
      "Time elapsed: 15.61 min\n",
      "Epoch: 014/020 | Batch 0000/0196 | Cost: 0.2246\n",
      "Epoch: 014/020 | Batch 0150/0196 | Cost: 0.2344\n",
      "Epoch: 014/020 | Train: 96.542%\n",
      "Time elapsed: 16.81 min\n",
      "Epoch: 015/020 | Batch 0000/0196 | Cost: 0.2016\n",
      "Epoch: 015/020 | Batch 0150/0196 | Cost: 0.2134\n",
      "Epoch: 015/020 | Train: 93.358%\n",
      "Time elapsed: 18.01 min\n",
      "Epoch: 016/020 | Batch 0000/0196 | Cost: 0.1811\n",
      "Epoch: 016/020 | Batch 0150/0196 | Cost: 0.1819\n",
      "Epoch: 016/020 | Train: 96.922%\n",
      "Time elapsed: 19.21 min\n",
      "Epoch: 017/020 | Batch 0000/0196 | Cost: 0.1586\n",
      "Epoch: 017/020 | Batch 0150/0196 | Cost: 0.1913\n",
      "Epoch: 017/020 | Train: 98.034%\n",
      "Time elapsed: 20.41 min\n",
      "Epoch: 018/020 | Batch 0000/0196 | Cost: 0.1352\n",
      "Epoch: 018/020 | Batch 0150/0196 | Cost: 0.1352\n",
      "Epoch: 018/020 | Train: 98.608%\n",
      "Time elapsed: 21.60 min\n",
      "Epoch: 019/020 | Batch 0000/0196 | Cost: 0.1970\n",
      "Epoch: 019/020 | Batch 0150/0196 | Cost: 0.1778\n",
      "Epoch: 019/020 | Train: 98.408%\n",
      "Time elapsed: 22.80 min\n",
      "Epoch: 020/020 | Batch 0000/0196 | Cost: 0.0758\n",
      "Epoch: 020/020 | Batch 0150/0196 | Cost: 0.2013\n",
      "Epoch: 020/020 | Train: 98.876%\n",
      "Time elapsed: 24.00 min\n",
      "Total Training Time: 24.00 min\n",
      "Test accuracy: 75.00%\n",
      "Total Time: 24.05 min\n"
     ]
    },
    {
     "data": {
      "image/png": "[encoded data removed]",
      "text/plain": [
       "<Figure size 576x396 with 1 Axes>"
      ]
     },
     "metadata": {
      "tags": []
     },
     "output_type": "display_data"
    },
    {
     "data": {
      "image/png": "[encoded data removed]",
      "text/plain": [
       "<Figure size 576x396 with 1 Axes>"
      ]
     },
     "metadata": {
      "tags": []
     },
     "output_type": "display_data"
    }
   ],
   "source": [
    "##########################\n",
    "### MODEL\n",
    "##########################\n",
    "\n",
    "class ConvNet4(nn.Module):\n",
    "\n",
    "    def __init__(self, num_classes=10):\n",
    "        super(ConvNet4, self).__init__()\n",
    "        \n",
    "        #### YOUR CODE\n",
    "        self.conv1 = nn.Conv2d(3, 64,  kernel_size=5, stride=2, padding=2)\n",
    "        \n",
    "        self.conv2 = nn.Conv2d(64, 192, kernel_size=5, stride = 2, padding = 2)\n",
    "        self.dropout2 = nn.Dropout2d(0.2)\n",
    "        self.batch2 = nn.BatchNorm2d(192)\n",
    "        \n",
    "        self.conv3 = nn.Conv2d(192, 384, kernel_size = 3, stride = 2, padding = 1)\n",
    "        self.dropout3 = nn.Dropout2d(0.2)\n",
    "        self.batch3 = nn.BatchNorm2d(384)\n",
    "        \n",
    "        self.conv4 = nn.Conv2d(384, 256, kernel_size = 5, stride = 2, padding = 2)\n",
    "        self.dropout4 = nn.Dropout2d(0.2)\n",
    "        self.batch4 = nn.BatchNorm2d(256)\n",
    "        \n",
    "        self.conv5 = nn.Conv2d(256, 256, kernel_size = 5, stride = 2, padding = 2)\n",
    "        self.dropout5 = nn.Dropout2d(0.2)\n",
    "        self.batch5 = nn.BatchNorm2d(256)\n",
    "        \n",
    "        self.conv6 = nn.Conv2d(256,4096,kernel_size = 1, stride = 1)\n",
    "        self.lin_drop_1 = nn.Dropout2d(0.5)\n",
    "        self.lin_batch_1 = nn.BatchNorm2d(4096)\n",
    "        \n",
    "        self.conv7 = nn.Conv2d(4096, 4096, kernel_size = 1, stride = 1)\n",
    "        self.lin_drop_2 = nn.Dropout2d(0.5)\n",
    "        self.lin_batch_2 = nn.BatchNorm2d(4096)\n",
    "        \n",
    "        self.conv8 = nn.Conv2d(4096, num_classes, kernel_size = 1, stride = 1) \n",
    "        \n",
    "\n",
    "    def forward(self, x):\n",
    "        #### YOUR CODE\n",
    "        out_1 = self.conv1(x)\n",
    "        out_1 = torch.relu(out_1)\n",
    "        \n",
    "        out_2 = self.conv2(out_1)\n",
    "        out_2 = self.batch2(out_2)\n",
    "        out_2 = self.dropout2(out_2)\n",
    "        out_2 = torch.relu(out_2)\n",
    "        \n",
    "        out_3 = self.conv3(out_2)\n",
    "        out_3 = self.batch3(out_3)\n",
    "        out_3 = self.dropout3(out_3)\n",
    "        out_3 = torch.relu(out_3)\n",
    "        \n",
    "        out_4 = self.conv4(out_3)\n",
    "        out_4 = self.batch4(out_4)\n",
    "        out_4 = self.dropout4(out_4)\n",
    "        out_4 = torch.relu(out_4)\n",
    "        \n",
    "        out_5 = self.conv5(out_4)\n",
    "        out_5 = self.batch5(out_5)\n",
    "        out_5 = self.dropout5(out_5)\n",
    "        out_5 = torch.relu(out_5)\n",
    "        #print(out_5.size())\n",
    "        #out_5 = out_5.view(-1,256)\n",
    "        #print(out_5.size())\n",
    "        \n",
    "        out_6 = self.conv6(out_5)\n",
    "        out_6 = self.lin_batch_1(out_6)\n",
    "        out_6 = torch.relu(out_6)\n",
    "        out_6 = self.lin_drop_1(out_6)\n",
    "        \n",
    "        out_7 = self.conv7(out_6)\n",
    "        out_7 = self.lin_batch_2(out_7)\n",
    "        out_7 = torch.relu(out_7)\n",
    "        out_7 = self.lin_drop_2(out_7)\n",
    "        \n",
    "        out_8 = self.conv8(out_7)\n",
    "        \n",
    "        \n",
    "        x = out_8\n",
    "\n",
    "        #x = self.conv8(x)\n",
    "        \n",
    "        logits = x.view(x.size(0), NUM_CLASSES)\n",
    "        probas = F.softmax(logits, dim=1)\n",
    "        return logits, probas\n",
    "    \n",
    "torch.manual_seed(RANDOM_SEED)\n",
    "\n",
    "model4 = ConvNet4(NUM_CLASSES)\n",
    "model4.to(DEVICE)\n",
    "\n",
    "optimizer = torch.optim.Adam(model4.parameters(), lr=LEARNING_RATE)\n",
    "\n",
    "minibatch_cost, epoch_cost = train(model4, train_loader, test_loader)\n",
    "\n",
    "\n",
    "plt.plot(range(len(minibatch_cost)), minibatch_cost)\n",
    "plt.ylabel('Cross Entropy')\n",
    "plt.xlabel('Minibatch')\n",
    "plt.show()\n",
    "\n",
    "plt.plot(range(len(epoch_cost)), epoch_cost)\n",
    "plt.ylabel('Cross Entropy')\n",
    "plt.xlabel('Epoch')\n",
    "plt.show()"
   ]
  },
  {
   "cell_type": "code",
   "execution_count": null,
   "metadata": {
    "colab": {},
    "colab_type": "code",
    "id": "u8VCJMZgS9Ir"
   },
   "outputs": [],
   "source": [
    "del model4"
   ]
  },
  {
   "cell_type": "markdown",
   "metadata": {
    "colab_type": "text",
    "id": "8Q_hR7yBS9Iu"
   },
   "source": [
    "<br>\n",
    "<br>"
   ]
  },
  {
   "cell_type": "markdown",
   "metadata": {
    "colab_type": "text",
    "id": "NXUU7UaMS9Iv"
   },
   "source": [
    "## 5) Add Image Augmentation"
   ]
  },
  {
   "cell_type": "code",
   "execution_count": null,
   "metadata": {
    "colab": {},
    "colab_type": "code",
    "id": "bdeHB8rD_90I"
   },
   "outputs": [],
   "source": [
    "class ConvNet4(nn.Module):\n",
    "\n",
    "    def __init__(self, num_classes=10):\n",
    "        super(ConvNet4, self).__init__()\n",
    "        \n",
    "        #### YOUR CODE\n",
    "        self.conv1 = nn.Conv2d(3, 64,  kernel_size=5, stride=2, padding=2)\n",
    "        \n",
    "        self.conv2 = nn.Conv2d(64, 192, kernel_size=5, stride = 2, padding = 2)\n",
    "        self.dropout2 = nn.Dropout2d(0.2)\n",
    "        self.batch2 = nn.BatchNorm2d(192)\n",
    "        \n",
    "        self.conv3 = nn.Conv2d(192, 384, kernel_size = 3, stride = 2, padding = 1)\n",
    "        self.dropout3 = nn.Dropout2d(0.2)\n",
    "        self.batch3 = nn.BatchNorm2d(384)\n",
    "        \n",
    "        self.conv4 = nn.Conv2d(384, 256, kernel_size = 5, stride = 2, padding = 2)\n",
    "        self.dropout4 = nn.Dropout2d(0.2)\n",
    "        self.batch4 = nn.BatchNorm2d(256)\n",
    "        \n",
    "        self.conv5 = nn.Conv2d(256, 256, kernel_size = 5, stride = 2, padding = 2)\n",
    "        self.dropout5 = nn.Dropout2d(0.2)\n",
    "        self.batch5 = nn.BatchNorm2d(256)\n",
    "        \n",
    "        self.conv6 = nn.Conv2d(256,4096,kernel_size = 1, stride = 1)\n",
    "        self.lin_drop_1 = nn.Dropout2d(0.5)\n",
    "        self.lin_batch_1 = nn.BatchNorm2d(4096)\n",
    "        \n",
    "        self.conv7 = nn.Conv2d(4096, 4096, kernel_size = 1, stride = 1)\n",
    "        self.lin_drop_2 = nn.Dropout2d(0.5)\n",
    "        self.lin_batch_2 = nn.BatchNorm2d(4096)\n",
    "        \n",
    "        self.conv8 = nn.Conv2d(4096, num_classes, kernel_size = 1, stride = 1) \n",
    "        \n",
    "\n",
    "    def forward(self, x):\n",
    "        #### YOUR CODE\n",
    "        out_1 = self.conv1(x)\n",
    "        out_1 = torch.relu(out_1)\n",
    "        \n",
    "        out_2 = self.conv2(out_1)\n",
    "        out_2 = self.batch2(out_2)\n",
    "        out_2 = self.dropout2(out_2)\n",
    "        out_2 = torch.relu(out_2)\n",
    "        \n",
    "        out_3 = self.conv3(out_2)\n",
    "        out_3 = self.batch3(out_3)\n",
    "        out_3 = self.dropout3(out_3)\n",
    "        out_3 = torch.relu(out_3)\n",
    "        \n",
    "        out_4 = self.conv4(out_3)\n",
    "        out_4 = self.batch4(out_4)\n",
    "        out_4 = self.dropout4(out_4)\n",
    "        out_4 = torch.relu(out_4)\n",
    "        \n",
    "        out_5 = self.conv5(out_4)\n",
    "        out_5 = self.batch5(out_5)\n",
    "        out_5 = self.dropout5(out_5)\n",
    "        out_5 = torch.relu(out_5)\n",
    "        #print(out_5.size())\n",
    "        #out_5 = out_5.view(-1,256)\n",
    "        #print(out_5.size())\n",
    "        \n",
    "        out_6 = self.conv6(out_5)\n",
    "        out_6 = self.lin_batch_1(out_6)\n",
    "        out_6 = torch.relu(out_6)\n",
    "        out_6 = self.lin_drop_1(out_6)\n",
    "        \n",
    "        out_7 = self.conv7(out_6)\n",
    "        out_7 = self.lin_batch_2(out_7)\n",
    "        out_7 = torch.relu(out_7)\n",
    "        out_7 = self.lin_drop_2(out_7)\n",
    "        \n",
    "        out_8 = self.conv8(out_7)\n",
    "        \n",
    "        \n",
    "        x = out_8\n",
    "\n",
    "        #x = self.conv8(x)\n",
    "        \n",
    "        logits = x.view(x.size(0), NUM_CLASSES)\n",
    "        probas = F.softmax(logits, dim=1)\n",
    "        return logits, probas\n",
    "    \n",
    "torch.manual_seed(RANDOM_SEED)\n",
    "\n",
    "model4 = ConvNet4(NUM_CLASSES)\n",
    "model4.to(DEVICE)\n",
    "\n",
    "def train(model, train_loader, test_loader):\n",
    "\n",
    "    minibatch_cost, epoch_cost = [], []\n",
    "    start_time = time.time()\n",
    "    for epoch in range(NUM_EPOCHS):\n",
    "\n",
    "        model.train()\n",
    "        for batch_idx, (features, targets) in enumerate(train_loader):\n",
    "\n",
    "            features = features.to(DEVICE)\n",
    "            targets = targets.to(DEVICE)\n",
    "\n",
    "            ### FORWARD AND BACK PROP\n",
    "            logits, probas = model(features)\n",
    "            cost = F.cross_entropy(logits, targets)\n",
    "            optimizer.zero_grad()\n",
    "\n",
    "            cost.backward()\n",
    "            minibatch_cost.append(cost)\n",
    "\n",
    "            ### UPDATE MODEL PARAMETERS\n",
    "            optimizer.step()\n",
    "\n",
    "            ### LOGGING\n",
    "            if not batch_idx % 150:\n",
    "                print ('Epoch: %03d/%03d | Batch %04d/%04d | Cost: %.4f' \n",
    "                       %(epoch+1, NUM_EPOCHS, batch_idx, \n",
    "                         len(train_loader), cost))\n",
    "\n",
    "    \n",
    "        with torch.set_grad_enabled(False): # save memory during inference\n",
    "            print('Epoch: %03d/%03d | Train: %.3f%%' % (\n",
    "                  epoch+1, NUM_EPOCHS, \n",
    "                  compute_accuracy(model, train_loader, device=DEVICE)))\n",
    "            \n",
    "            cost = compute_epoch_loss(model, train_loader)\n",
    "            epoch_cost.append(cost)\n",
    "\n",
    "        print('Time elapsed: %.2f min' % ((time.time() - start_time)/60))\n",
    "\n",
    "    print('Total Training Time: %.2f min' % ((time.time() - start_time)/60))\n",
    "\n",
    "\n",
    "    with torch.set_grad_enabled(False): # save memory during inference\n",
    "        print('Test accuracy: %.2f%%' % (compute_accuracy(model, test_loader, device=DEVICE)))\n",
    "\n",
    "    print('Total Time: %.2f min' % ((time.time() - start_time)/60))\n",
    "    \n",
    "    return minibatch_cost, epoch_cost"
   ]
  },
  {
   "cell_type": "markdown",
   "metadata": {
    "colab_type": "text",
    "id": "FJzF1ZGlS9Iw"
   },
   "source": [
    "In this last section, you should use the architecture from the previous section (section 4) but use additional image augmentation during training to improve the generalization performance. \n",
    "\n",
    "\n",
    "In particular, you should modify the `train_transform = transforms.Compose([...`) function so that it\n",
    "\n",
    "- performs a random horizontal flip with propbability 50%\n",
    "- resizes the image from 32x32 to 40x40\n",
    "- performs a 32x32 random crop from the 40x40 images\n",
    "- normalizes the pixel intensities such that they are within the range [-1, 1]\n",
    "\n",
    "The `test_transform = transforms.Compose([...` function should be modified accordingly, such that it \n",
    "\n",
    "- resizes the image from 32x32 to 40x40\n",
    "- performs a 32x32 **center** crop from the 40x40 images\n",
    "- normalizes the pixel intensities such that they are within the range [-1, 1]"
   ]
  },
  {
   "cell_type": "code",
   "execution_count": null,
   "metadata": {
    "colab": {
     "base_uri": "https://localhost:8080/",
     "height": 1456
    },
    "colab_type": "code",
    "id": "1WtWuBIDS9Ix",
    "outputId": "f469fc0d-8390-4c19-fd6c-a4bf01faeb7d"
   },
   "outputs": [
    {
     "name": "stdout",
     "output_type": "stream",
     "text": [
      "Files already downloaded and verified\n",
      "Epoch: 001/020 | Batch 0000/0196 | Cost: 2.3210\n",
      "Epoch: 001/020 | Batch 0150/0196 | Cost: 1.7521\n",
      "Epoch: 001/020 | Train: 35.268%\n",
      "Time elapsed: 1.43 min\n",
      "Epoch: 002/020 | Batch 0000/0196 | Cost: 1.7726\n",
      "Epoch: 002/020 | Batch 0150/0196 | Cost: 1.7376\n",
      "Epoch: 002/020 | Train: 41.340%\n",
      "Time elapsed: 2.86 min\n",
      "Epoch: 003/020 | Batch 0000/0196 | Cost: 1.6074\n",
      "Epoch: 003/020 | Batch 0150/0196 | Cost: 1.6032\n",
      "Epoch: 003/020 | Train: 46.298%\n",
      "Time elapsed: 4.28 min\n",
      "Epoch: 004/020 | Batch 0000/0196 | Cost: 1.5316\n",
      "Epoch: 004/020 | Batch 0150/0196 | Cost: 1.5211\n",
      "Epoch: 004/020 | Train: 48.264%\n",
      "Time elapsed: 5.71 min\n",
      "Epoch: 005/020 | Batch 0000/0196 | Cost: 1.4835\n",
      "Epoch: 005/020 | Batch 0150/0196 | Cost: 1.4704\n",
      "Time elapsed: 7.14 min\n",
      "Epoch: 006/020 | Batch 0000/0196 | Cost: 1.4309\n",
      "Epoch: 006/020 | Batch 0150/0196 | Cost: 1.3271\n",
      "Epoch: 006/020 | Train: 53.696%\n",
      "Time elapsed: 8.57 min\n",
      "Epoch: 007/020 | Batch 0000/0196 | Cost: 1.3390\n",
      "Epoch: 007/020 | Batch 0150/0196 | Cost: 1.4016\n",
      "Epoch: 007/020 | Train: 53.886%\n",
      "Time elapsed: 9.99 min\n",
      "Epoch: 008/020 | Batch 0000/0196 | Cost: 1.3041\n",
      "Epoch: 008/020 | Batch 0150/0196 | Cost: 1.2586\n",
      "Epoch: 008/020 | Train: 57.122%\n",
      "Time elapsed: 11.38 min\n",
      "Epoch: 009/020 | Batch 0000/0196 | Cost: 1.3541\n",
      "Epoch: 009/020 | Batch 0150/0196 | Cost: 1.2556\n",
      "Epoch: 009/020 | Train: 58.178%\n",
      "Time elapsed: 12.75 min\n",
      "Epoch: 010/020 | Batch 0000/0196 | Cost: 1.2220\n",
      "Epoch: 010/020 | Batch 0150/0196 | Cost: 1.0863\n",
      "Epoch: 010/020 | Train: 58.878%\n",
      "Time elapsed: 14.12 min\n",
      "Epoch: 011/020 | Batch 0000/0196 | Cost: 1.2710\n",
      "Epoch: 011/020 | Batch 0150/0196 | Cost: 1.2184\n",
      "Epoch: 011/020 | Train: 60.778%\n",
      "Time elapsed: 15.49 min\n",
      "Epoch: 012/020 | Batch 0000/0196 | Cost: 1.1110\n",
      "Epoch: 012/020 | Batch 0150/0196 | Cost: 1.2778\n",
      "Epoch: 012/020 | Train: 62.142%\n",
      "Time elapsed: 16.87 min\n",
      "Epoch: 013/020 | Batch 0000/0196 | Cost: 1.0806\n",
      "Epoch: 013/020 | Batch 0150/0196 | Cost: 1.2723\n",
      "Epoch: 013/020 | Train: 62.408%\n",
      "Time elapsed: 18.25 min\n",
      "Epoch: 014/020 | Batch 0000/0196 | Cost: 1.1600\n",
      "Epoch: 014/020 | Batch 0150/0196 | Cost: 1.1198\n",
      "Epoch: 014/020 | Train: 63.328%\n",
      "Time elapsed: 19.61 min\n",
      "Epoch: 015/020 | Batch 0000/0196 | Cost: 1.0846\n",
      "Epoch: 015/020 | Batch 0150/0196 | Cost: 1.1633\n",
      "Epoch: 015/020 | Train: 65.066%\n",
      "Time elapsed: 20.99 min\n",
      "Epoch: 016/020 | Batch 0000/0196 | Cost: 1.0501\n",
      "Epoch: 016/020 | Batch 0150/0196 | Cost: 1.0876\n",
      "Epoch: 016/020 | Train: 64.564%\n",
      "Time elapsed: 22.36 min\n",
      "Epoch: 017/020 | Batch 0000/0196 | Cost: 1.2350\n",
      "Epoch: 017/020 | Batch 0150/0196 | Cost: 1.1376\n",
      "Epoch: 017/020 | Train: 66.148%\n",
      "Time elapsed: 23.73 min\n",
      "Epoch: 018/020 | Batch 0000/0196 | Cost: 1.2165\n",
      "Epoch: 018/020 | Batch 0150/0196 | Cost: 0.9854\n",
      "Epoch: 018/020 | Train: 65.706%\n",
      "Time elapsed: 25.09 min\n",
      "Epoch: 019/020 | Batch 0000/0196 | Cost: 1.1853\n",
      "Epoch: 019/020 | Batch 0150/0196 | Cost: 1.1183\n",
      "Epoch: 019/020 | Train: 66.376%\n",
      "Time elapsed: 26.44 min\n",
      "Epoch: 020/020 | Batch 0000/0196 | Cost: 1.1287\n",
      "Epoch: 020/020 | Batch 0150/0196 | Cost: 1.0513\n",
      "Epoch: 020/020 | Train: 67.470%\n",
      "Time elapsed: 27.80 min\n",
      "Total Training Time: 27.80 min\n",
      "Test accuracy: 77.18%\n",
      "Total Time: 27.85 min\n"
     ]
    }
   ],
   "source": [
    "train_transform = transforms.Compose([\n",
    "    transforms.RandomHorizontalFlip(),\n",
    "    transforms.Resize(40),\n",
    "    transforms.RandomResizedCrop(32),\n",
    "    transforms.ToTensor(),\n",
    "    transforms.Lambda(lambda x:2*x  - 1)\n",
    "        #### YOUR CODE\n",
    "])\n",
    "\n",
    "test_transform = transforms.Compose([\n",
    "    transforms.Resize(40),\n",
    "    transforms.CenterCrop(32),\n",
    "    transforms.ToTensor(),\n",
    "    transforms.Lambda(lambda x:2*x - 1)\n",
    "        #### YOUR CODE\n",
    "])\n",
    "\n",
    "\n",
    "train_dataset = datasets.CIFAR10(root='data', \n",
    "                                 train=True, \n",
    "                                 transform=train_transform,\n",
    "                                 download=True)\n",
    "\n",
    "test_dataset = datasets.CIFAR10(root='data', \n",
    "                                train=False, \n",
    "                                transform=test_transform)\n",
    "\n",
    "\n",
    "train_loader = DataLoader(dataset=train_dataset, \n",
    "                          batch_size=BATCH_SIZE, \n",
    "                          num_workers=8,\n",
    "                          shuffle=True)\n",
    "\n",
    "test_loader = DataLoader(dataset=test_dataset, \n",
    "                         batch_size=BATCH_SIZE,\n",
    "                         num_workers=8,\n",
    "                         shuffle=False)\n",
    "\n",
    "\n",
    "torch.manual_seed(RANDOM_SEED)\n",
    "\n",
    "model4 = ConvNet4(NUM_CLASSES)\n",
    "model4.to(DEVICE)\n",
    "\n",
    "optimizer = torch.optim.Adam(model4.parameters(), lr=LEARNING_RATE)\n",
    "\n",
    "minibatch_cost, epoch_cost = train(model4, train_loader, test_loader)"
   ]
  },
  {
   "cell_type": "code",
   "execution_count": null,
   "metadata": {
    "colab": {
     "base_uri": "https://localhost:8080/",
     "height": 705
    },
    "colab_type": "code",
    "id": "-K__abJ1ANB8",
    "outputId": "abff9c6c-ba1a-4c00-a4f9-c97d003dc149"
   },
   "outputs": [
    {
     "data": {
      "image/png": "[encoded data removed]",
      "text/plain": [
       "<Figure size 576x396 with 1 Axes>"
      ]
     },
     "metadata": {
      "tags": []
     },
     "output_type": "display_data"
    },
    {
     "data": {
      "image/png": "[encoded data removed]",
      "text/plain": [
       "<Figure size 576x396 with 1 Axes>"
      ]
     },
     "metadata": {
      "tags": []
     },
     "output_type": "display_data"
    }
   ],
   "source": [
    "plt.plot(range(len(minibatch_cost)), minibatch_cost)\n",
    "plt.ylabel('Cross Entropy')\n",
    "plt.xlabel('Minibatch')\n",
    "plt.show()\n",
    "\n",
    "plt.plot(range(len(epoch_cost)), epoch_cost)\n",
    "plt.ylabel('Cross Entropy')\n",
    "plt.xlabel('Epoch')\n",
    "plt.show()"
   ]
  },
  {
   "cell_type": "code",
   "execution_count": null,
   "metadata": {
    "colab": {
     "base_uri": "https://localhost:8080/",
     "height": 166
    },
    "colab_type": "code",
    "id": "-2u0bCc2S9I0",
    "outputId": "52b24bd7-5d63-4132-9756-5a0362331548"
   },
   "outputs": [
    {
     "ename": "NameError",
     "evalue": "ignored",
     "output_type": "error",
     "traceback": [
      "\u001b[0;31m---------------------------------------------------------------------------\u001b[0m",
      "\u001b[0;31mNameError\u001b[0m                                 Traceback (most recent call last)",
      "\u001b[0;32m<ipython-input-19-61c452c8305e>\u001b[0m in \u001b[0;36m<module>\u001b[0;34m()\u001b[0m\n\u001b[0;32m----> 1\u001b[0;31m \u001b[0msummary\u001b[0m\u001b[0;34m(\u001b[0m\u001b[0mmodel4\u001b[0m\u001b[0;34m,\u001b[0m \u001b[0minput_size\u001b[0m\u001b[0;34m=\u001b[0m\u001b[0;34m(\u001b[0m\u001b[0;36m3\u001b[0m\u001b[0;34m,\u001b[0m \u001b[0;36m32\u001b[0m\u001b[0;34m,\u001b[0m \u001b[0;36m32\u001b[0m\u001b[0;34m)\u001b[0m\u001b[0;34m)\u001b[0m\u001b[0;34m\u001b[0m\u001b[0;34m\u001b[0m\u001b[0m\n\u001b[0m",
      "\u001b[0;31mNameError\u001b[0m: name 'summary' is not defined"
     ]
    }
   ],
   "source": [
    "summary(model1, input_size=(3, 32, 32))"
   ]
  },
  {
   "cell_type": "markdown",
   "metadata": {
    "colab_type": "text",
    "id": "SPb3djXgS9I3"
   },
   "source": [
    "<br>\n",
    "<br>"
   ]
  },
  {
   "cell_type": "markdown",
   "metadata": {
    "colab_type": "text",
    "id": "NBcNeB1-S9I4"
   },
   "source": [
    "## 6) Optional: Training the network for 200 epochs"
   ]
  },
  {
   "cell_type": "markdown",
   "metadata": {
    "colab_type": "text",
    "id": "1qx9b6xqS9I5"
   },
   "source": [
    "In this optional section, train the network from the previous part for 200 epochs to see how it performs as the training loss converges. This will take about 50 minutes and is optional (you will not receive a penalty if you don't run this section)."
   ]
  },
  {
   "cell_type": "code",
   "execution_count": null,
   "metadata": {
    "colab": {
     "base_uri": "https://localhost:8080/",
     "height": 1993
    },
    "colab_type": "code",
    "id": "eNZALBCyS9I6",
    "outputId": "52e77889-935c-47fb-b2a2-3a57a9089752"
   },
   "outputs": [
    {
     "name": "stdout",
     "output_type": "stream",
     "text": [
      "Epoch: 001/200 | Batch 0000/0196 | Cost: 2.3210\n",
      "Epoch: 001/200 | Batch 0150/0196 | Cost: 1.7521\n",
      "Epoch: 001/200 | Train: 35.268%\n",
      "Time elapsed: 1.38 min\n",
      "Epoch: 002/200 | Batch 0000/0196 | Cost: 1.7726\n",
      "Epoch: 002/200 | Batch 0150/0196 | Cost: 1.7376\n",
      "Epoch: 002/200 | Train: 41.340%\n",
      "Time elapsed: 2.76 min\n",
      "Epoch: 003/200 | Batch 0000/0196 | Cost: 1.6074\n",
      "Epoch: 003/200 | Batch 0150/0196 | Cost: 1.6032\n",
      "Epoch: 003/200 | Train: 46.298%\n",
      "Time elapsed: 4.13 min\n",
      "Epoch: 004/200 | Batch 0000/0196 | Cost: 1.5316\n",
      "Epoch: 004/200 | Batch 0150/0196 | Cost: 1.5211\n",
      "Epoch: 004/200 | Train: 48.264%\n",
      "Time elapsed: 5.50 min\n",
      "Epoch: 005/200 | Batch 0000/0196 | Cost: 1.4835\n",
      "Epoch: 005/200 | Batch 0150/0196 | Cost: 1.4704\n",
      "Epoch: 005/200 | Train: 50.328%\n",
      "Time elapsed: 6.86 min\n",
      "Epoch: 006/200 | Batch 0000/0196 | Cost: 1.4309\n",
      "Epoch: 006/200 | Batch 0150/0196 | Cost: 1.3271\n",
      "Epoch: 006/200 | Train: 53.696%\n",
      "Time elapsed: 8.23 min\n",
      "Epoch: 007/200 | Batch 0000/0196 | Cost: 1.3390\n",
      "Epoch: 007/200 | Batch 0150/0196 | Cost: 1.4016\n",
      "Epoch: 007/200 | Train: 53.886%\n",
      "Time elapsed: 9.58 min\n",
      "Epoch: 008/200 | Batch 0000/0196 | Cost: 1.3041\n",
      "Epoch: 008/200 | Batch 0150/0196 | Cost: 1.2586\n",
      "Epoch: 008/200 | Train: 57.122%\n",
      "Time elapsed: 10.95 min\n",
      "Epoch: 009/200 | Batch 0000/0196 | Cost: 1.3541\n",
      "Epoch: 009/200 | Batch 0150/0196 | Cost: 1.2556\n",
      "Epoch: 009/200 | Train: 58.178%\n",
      "Time elapsed: 12.32 min\n",
      "Epoch: 010/200 | Batch 0000/0196 | Cost: 1.2220\n",
      "Epoch: 010/200 | Batch 0150/0196 | Cost: 1.0863\n",
      "Epoch: 010/200 | Train: 58.878%\n",
      "Time elapsed: 13.68 min\n",
      "Epoch: 011/200 | Batch 0000/0196 | Cost: 1.2710\n",
      "Epoch: 011/200 | Batch 0150/0196 | Cost: 1.2184\n",
      "Epoch: 011/200 | Train: 60.778%\n",
      "Time elapsed: 15.06 min\n",
      "Epoch: 012/200 | Batch 0000/0196 | Cost: 1.1110\n",
      "Epoch: 012/200 | Batch 0150/0196 | Cost: 1.2778\n",
      "Epoch: 012/200 | Train: 62.142%\n",
      "Time elapsed: 16.42 min\n",
      "Epoch: 013/200 | Batch 0000/0196 | Cost: 1.0806\n",
      "Epoch: 013/200 | Batch 0150/0196 | Cost: 1.2723\n",
      "Epoch: 013/200 | Train: 62.408%\n",
      "Time elapsed: 17.80 min\n",
      "Epoch: 014/200 | Batch 0000/0196 | Cost: 1.1600\n",
      "Epoch: 014/200 | Batch 0150/0196 | Cost: 1.1198\n",
      "Epoch: 014/200 | Train: 63.328%\n",
      "Time elapsed: 19.15 min\n",
      "Epoch: 015/200 | Batch 0000/0196 | Cost: 1.0846\n",
      "Epoch: 015/200 | Batch 0150/0196 | Cost: 1.1633\n",
      "Epoch: 015/200 | Train: 65.066%\n",
      "Time elapsed: 20.51 min\n",
      "Epoch: 016/200 | Batch 0000/0196 | Cost: 1.0501\n",
      "Epoch: 016/200 | Batch 0150/0196 | Cost: 1.0876\n",
      "Epoch: 016/200 | Train: 64.564%\n",
      "Time elapsed: 21.86 min\n",
      "Epoch: 017/200 | Batch 0000/0196 | Cost: 1.2350\n",
      "Epoch: 017/200 | Batch 0150/0196 | Cost: 1.1376\n",
      "Epoch: 017/200 | Train: 66.148%\n",
      "Time elapsed: 23.24 min\n",
      "Epoch: 018/200 | Batch 0000/0196 | Cost: 1.2165\n",
      "Epoch: 018/200 | Batch 0150/0196 | Cost: 0.9854\n",
      "Epoch: 018/200 | Train: 65.706%\n",
      "Time elapsed: 24.62 min\n",
      "Epoch: 019/200 | Batch 0000/0196 | Cost: 1.1853\n",
      "Epoch: 019/200 | Batch 0150/0196 | Cost: 1.1183\n",
      "Epoch: 019/200 | Train: 66.376%\n",
      "Time elapsed: 26.01 min\n",
      "Epoch: 020/200 | Batch 0000/0196 | Cost: 1.1287\n",
      "Epoch: 020/200 | Batch 0150/0196 | Cost: 1.0513\n",
      "Epoch: 020/200 | Train: 67.470%\n",
      "Time elapsed: 27.40 min\n",
      "Epoch: 021/200 | Batch 0000/0196 | Cost: 0.9711\n",
      "Epoch: 021/200 | Batch 0150/0196 | Cost: 0.9371\n",
      "Epoch: 021/200 | Train: 66.774%\n",
      "Time elapsed: 28.80 min\n",
      "Epoch: 022/200 | Batch 0000/0196 | Cost: 1.0966\n",
      "Epoch: 022/200 | Batch 0150/0196 | Cost: 0.9575\n",
      "Epoch: 022/200 | Train: 67.896%\n",
      "Time elapsed: 30.19 min\n",
      "Epoch: 023/200 | Batch 0000/0196 | Cost: 1.0592\n",
      "Epoch: 023/200 | Batch 0150/0196 | Cost: 1.0005\n",
      "Epoch: 023/200 | Train: 68.218%\n",
      "Time elapsed: 31.59 min\n",
      "Epoch: 024/200 | Batch 0000/0196 | Cost: 0.8155\n",
      "Epoch: 024/200 | Batch 0150/0196 | Cost: 1.0186\n",
      "Epoch: 024/200 | Train: 68.542%\n",
      "Time elapsed: 32.99 min\n",
      "Epoch: 025/200 | Batch 0000/0196 | Cost: 1.1300\n",
      "Epoch: 025/200 | Batch 0150/0196 | Cost: 1.1031\n",
      "Epoch: 025/200 | Train: 69.172%\n",
      "Time elapsed: 34.39 min\n",
      "Epoch: 026/200 | Batch 0000/0196 | Cost: 0.9833\n",
      "Epoch: 026/200 | Batch 0150/0196 | Cost: 1.1898\n",
      "Epoch: 026/200 | Train: 69.110%\n",
      "Time elapsed: 35.79 min\n",
      "Epoch: 027/200 | Batch 0000/0196 | Cost: 1.0812\n",
      "Epoch: 027/200 | Batch 0150/0196 | Cost: 0.9230\n",
      "Epoch: 027/200 | Train: 69.464%\n",
      "Time elapsed: 37.19 min\n",
      "Epoch: 028/200 | Batch 0000/0196 | Cost: 1.0324\n",
      "Epoch: 028/200 | Batch 0150/0196 | Cost: 0.9159\n",
      "Epoch: 028/200 | Train: 70.558%\n",
      "Time elapsed: 38.60 min\n",
      "Epoch: 029/200 | Batch 0000/0196 | Cost: 0.9200\n",
      "Epoch: 029/200 | Batch 0150/0196 | Cost: 0.9288\n"
     ]
    }
   ],
   "source": [
    "NUM_EPOCHS = 200\n",
    "\n",
    "torch.manual_seed(RANDOM_SEED)\n",
    "\n",
    "model4 = ConvNet4(NUM_CLASSES)\n",
    "model4.to(DEVICE)\n",
    "\n",
    "optimizer = torch.optim.Adam(model4.parameters(), lr=LEARNING_RATE)\n",
    "\n",
    "minibatch_cost, epoch_cost = train(model4, train_loader, test_loader)"
   ]
  },
  {
   "cell_type": "code",
   "execution_count": null,
   "metadata": {
    "colab": {},
    "colab_type": "code",
    "id": "DHCkye5pS9I9"
   },
   "outputs": [],
   "source": [
    "plt.plot(range(len(minibatch_cost)), minibatch_cost)\n",
    "plt.ylabel('Cross Entropy')\n",
    "plt.xlabel('Minibatch')\n",
    "plt.show()\n",
    "\n",
    "plt.plot(range(len(epoch_cost)), epoch_cost)\n",
    "plt.ylabel('Cross Entropy')\n",
    "plt.xlabel('Epoch')\n",
    "plt.show()"
   ]
  },
  {
   "cell_type": "markdown",
   "metadata": {
    "colab_type": "text",
    "id": "NfRRQ_ctS9JA"
   },
   "source": [
    "<br>\n",
    "<br>"
   ]
  },
  {
   "cell_type": "markdown",
   "metadata": {
    "colab_type": "text",
    "id": "q7Y3CFYUS9JB"
   },
   "source": [
    "## Conclusions (Your Answers Required)"
   ]
  },
  {
   "cell_type": "markdown",
   "metadata": {
    "colab_type": "text",
    "id": "7vxJVgCaS9JC"
   },
   "source": [
    "Now that you implemented the AlexNet-like architecture and made several modifications to it, please report the number of learnable parameters for each model, i.e., the weights and biases and batchnorm parameters, etc. (excluding the parameters of the ADAM optimizer). Also, please paste the training and test set accuracies below.\n"
   ]
  },
  {
   "cell_type": "markdown",
   "metadata": {
    "colab_type": "text",
    "id": "iL3k_r7HS9JE"
   },
   "source": [
    "---\n",
    "\n",
    "- **Model from section 1)**\n",
    "    - Train accuracy: 98.440%\n",
    "    - Test accuracy: 71.98%\n",
    "\n",
    "Number of learnable parameters: (include your computation to receive partial points if the final answer is wrong)\n",
    "\n",
    "[insert computation and answer]\n",
    "\n",
    "\n",
    "- Conv2d (1) 5 * 5 * 3 * 64 + 64 = 4864\n",
    "- Conv2d (2) 5 * 5 * 64 * 192 + 192 = 307392\n",
    "- Conv2d (3) 3 * 3 * 192 * 384 + 384 = 663936\n",
    "- Conv2d (4) 5 * 5 * 384 * 256 + 256 = 2457856\n",
    "- Conv2d (5) 5 * 5 * 256 * 256 + 256 = 1638656\n",
    "- FC (1)     4096 * 256 + 4096 = 1052672\n",
    "- FC (2)     4096 * 4096 + 4096 = 16781312\n",
    "- FC (3)     4096 * 10 + 10 = 40970\n",
    "- Total number of parameters: 4864 + 307392 + 663936 + 2457856 + 1638656 + 1052672 + 16781312 + 40970 = 22947658\n",
    "\n",
    "---"
   ]
  },
  {
   "cell_type": "markdown",
   "metadata": {
    "colab_type": "text",
    "id": "wKEs9DU0S9JF"
   },
   "source": [
    "- **Model from section 2)**\n",
    "    - Train accuracy: 94.112%\n",
    "    - Test accuracy: 75.81%\n",
    "\n",
    "Number of learnable parameters: (include your computation to receive partial points if the final answer is wrong)\n",
    "\n",
    "[insert computation and answer]\n",
    "\n",
    "\n",
    "- Conv2d (1) 5 * 5 * 3 * 64 + 64 = 4864\n",
    "- Conv2d (2) 5 * 5 * 64 * 192 + 192 = 307392\n",
    "- Conv2d (3) 3 * 3 * 192 * 384 + 384 = 663936\n",
    "- Conv2d (4) 5 * 5 * 384 * 256 + 256 = 2457856\n",
    "- Conv2d (5) 5 * 5 * 256 * 256 + 256 = 1638656\n",
    "- FC (1)     4096 * 256 + 4096 = 1052672\n",
    "- FC (2)     4096 * 4096 + 4096 = 16781312\n",
    "- FC (3)     4096 * 10 + 10 = 40970\n",
    "- Total number of parameters: 4864 + 307392 + 663936 + 2457856 + 1638656 + 1052672 + 16781312 + 40970 = 22947658\n",
    "\n",
    "\n",
    "\n",
    "---"
   ]
  },
  {
   "cell_type": "markdown",
   "metadata": {
    "colab_type": "text",
    "id": "Gz4dUBGdS9JG"
   },
   "source": [
    "- **Model from section 3)**\n",
    "    - Train accuracy: 98.468%\n",
    "    - Test accuracy: 81.24%\n",
    "\n",
    "Number of learnable parameters: (include your computation to receive partial points if the final answer is wrong)\n",
    "\n",
    "[insert computation and answer]\n",
    "\n",
    "\n",
    "- Conv2d (1) 5 * 5 * 3 * 64 + 64 = 4864\n",
    "- Conv2d (2) 5 * 5 * 64 * 192 + 192 + 192*2 = 307776\n",
    "- Conv2d (3) 3 * 3 * 192 * 384 + 384 + 384*2 = 664704\n",
    "- Conv2d (4) 5 * 5 * 384 * 256 + 256 + 256*2 = 2458368\n",
    "- Conv2d (5) 5 * 5 * 256 * 256 + 256 + 256*2 = 1639168\n",
    "- FC (1)     4096 * 256 + 4096 + 4096*2 = 1060864\n",
    "- FC (2)     4096 * 4096 + 4096 + 4096*2 = 116789504\n",
    "- FC (3)     4096 * 10 + 10 = 40970\n",
    "- Total number of parameters: 4864 + 307776 + 664704 + 2458368 + 1639168 + 1060864 + 16789504 + 40970 = 22966218\n",
    "\n",
    "\n",
    "\n",
    "---"
   ]
  },
  {
   "cell_type": "markdown",
   "metadata": {
    "colab_type": "text",
    "id": "8ZXBn3WaS9JG"
   },
   "source": [
    "- **Model from section 4)**\n",
    "    - Train accuracy: 98.876%\n",
    "    - Test accuracy: 75.00%\n",
    "\n",
    "Number of learnable parameters: (include your computation to receive partial points if the final answer is wrong)\n",
    "\n",
    "[insert computation and answer]\n",
    "\n",
    "\n",
    "- Conv2d (1) 5 * 5 * 3 * 64 + 64 = 4864\n",
    "- Conv2d (2) 5 * 5 * 64 * 192 + 192 + 192*2 = 307776\n",
    "- Conv2d (3) 3 * 3 * 192 * 384 + 384 + 384*2 = 664704\n",
    "- Conv2d (4) 5 * 5 * 384 * 256 + 256 + 256*2 = 2458368\n",
    "- Conv2d (5) 5 * 5 * 256 * 256 + 256 + 256*2 = 1639168\n",
    "- FC (1)     4096 * 256 + 4096 + 4096*2 = 1060864\n",
    "- FC (2)     4096 * 4096 + 4096 + 4096*2 = 116789504\n",
    "- FC (3)     4096 * 10 + 10 = 40970\n",
    "- Total number of parameters: 4864 + 307776 + 664704 + 2458368 + 1639168 + 1060864 + 16789504 + 40970 = 22966218\n",
    "\n",
    "\n",
    "\n",
    "\n",
    "---"
   ]
  },
  {
   "cell_type": "markdown",
   "metadata": {
    "colab_type": "text",
    "id": "5yJIRhfBS9JH"
   },
   "source": [
    "- **Model from section 5)**\n",
    "    - Train accuracy: 67.470%\n",
    "    - Test accuracy: 77.18%\n",
    "\n",
    "Number of learnable parameters: (include your computation to receive partial points if the final answer is wrong)\n",
    "\n",
    "[insert computation and answer]\n",
    "\n",
    "\n",
    "- Conv2d (1) 5 * 5 * 3 * 64 + 64 = 4864\n",
    "- Conv2d (2) 5 * 5 * 64 * 192 + 192 + 192*2 = 307776\n",
    "- Conv2d (3) 3 * 3 * 192 * 384 + 384 + 384*2 = 664704\n",
    "- Conv2d (4) 5 * 5 * 384 * 256 + 256 + 256*2 = 2458368\n",
    "- Conv2d (5) 5 * 5 * 256 * 256 + 256 + 256*2 = 1639168\n",
    "- FC (1)     4096 * 256 + 4096 + 4096*2 = 1060864\n",
    "- FC (2)     4096 * 4096 + 4096 + 4096*2 = 116789504\n",
    "- FC (3)     4096 * 10 + 10 = 40970\n",
    "- Total number of parameters: 4864 + 307776 + 664704 + 2458368 + 1639168 + 1060864 + 16789504 + 40970 = 22966218\n",
    "\n",
    "\n",
    "\n",
    "---\n",
    "\n",
    "\n",
    "---"
   ]
  },
  {
   "cell_type": "markdown",
   "metadata": {
    "colab_type": "text",
    "id": "aGEXdm2ZS9JI"
   },
   "source": [
    "- **Model from section 6) [optional]**\n",
    "    - Train accuracy: ???%\n",
    "    - Test accuracy: ???%\n",
    "\n",
    "\n",
    "---"
   ]
  },
  {
   "cell_type": "code",
   "execution_count": null,
   "metadata": {
    "colab": {},
    "colab_type": "code",
    "id": "m9gKI7rSS9JJ"
   },
   "outputs": [],
   "source": []
  }
 ],
 "metadata": {
  "accelerator": "GPU",
  "colab": {
   "collapsed_sections": [],
   "name": "hw4.ipynb",
   "provenance": [],
   "version": "0.3.2"
  },
  "kernelspec": {
   "display_name": "Python 3",
   "language": "python",
   "name": "python3"
  },
  "language_info": {
   "codemirror_mode": {
    "name": "ipython",
    "version": 3
   },
   "file_extension": ".py",
   "mimetype": "text/x-python",
   "name": "python",
   "nbconvert_exporter": "python",
   "pygments_lexer": "ipython3",
   "version": "3.6.8"
  }
 },
 "nbformat": 4,
 "nbformat_minor": 2
}
