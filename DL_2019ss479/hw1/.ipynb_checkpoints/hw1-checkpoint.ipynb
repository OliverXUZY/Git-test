{
 "cells": [
  {
   "cell_type": "markdown",
   "metadata": {},
   "source": [
    "STAT 479: Deep Learning (Spring 2019)  \n",
    "Instructor: Sebastian Raschka (sraschka@wisc.edu)  \n",
    "Course website: http://pages.stat.wisc.edu/~sraschka/teaching/stat479-ss2019/  \n",
    "GitHub repository: https://github.com/rasbt/stat479-deep-learning-ss19"
   ]
  },
  {
   "cell_type": "code",
   "execution_count": 1,
   "metadata": {},
   "outputs": [
    {
     "name": "stdout",
     "output_type": "stream",
     "text": [
      "Requirement already satisfied: watermark in c:\\users\\oliver\\anaconda3\\lib\\site-packages (1.8.1)\n",
      "Requirement already satisfied: ipython in c:\\users\\oliver\\anaconda3\\lib\\site-packages (from watermark) (6.4.0)\n",
      "Requirement already satisfied: decorator in c:\\users\\oliver\\anaconda3\\lib\\site-packages (from ipython->watermark) (4.3.0)\n",
      "Requirement already satisfied: backcall in c:\\users\\oliver\\anaconda3\\lib\\site-packages (from ipython->watermark) (0.1.0)\n",
      "Requirement already satisfied: colorama; sys_platform == \"win32\" in c:\\users\\oliver\\anaconda3\\lib\\site-packages (from ipython->watermark) (0.3.9)\n",
      "Requirement already satisfied: pickleshare in c:\\users\\oliver\\anaconda3\\lib\\site-packages (from ipython->watermark) (0.7.4)\n",
      "Requirement already satisfied: traitlets>=4.2 in c:\\users\\oliver\\anaconda3\\lib\\site-packages (from ipython->watermark) (4.3.2)\n",
      "Requirement already satisfied: prompt-toolkit<2.0.0,>=1.0.15 in c:\\users\\oliver\\anaconda3\\lib\\site-packages (from ipython->watermark) (1.0.15)\n",
      "Requirement already satisfied: jedi>=0.10 in c:\\users\\oliver\\anaconda3\\lib\\site-packages (from ipython->watermark) (0.12.0)\n",
      "Requirement already satisfied: simplegeneric>0.8 in c:\\users\\oliver\\anaconda3\\lib\\site-packages (from ipython->watermark) (0.8.1)\n",
      "Requirement already satisfied: setuptools>=18.5 in c:\\users\\oliver\\appdata\\roaming\\python\\python36\\site-packages (from ipython->watermark) (39.1.0)\n",
      "Requirement already satisfied: pygments in c:\\users\\oliver\\anaconda3\\lib\\site-packages (from ipython->watermark) (2.2.0)\n",
      "Requirement already satisfied: ipython_genutils in c:\\users\\oliver\\anaconda3\\lib\\site-packages (from traitlets>=4.2->ipython->watermark) (0.2.0)\n",
      "Requirement already satisfied: six in c:\\users\\oliver\\appdata\\roaming\\python\\python36\\site-packages (from traitlets>=4.2->ipython->watermark) (1.11.0)\n",
      "Requirement already satisfied: wcwidth in c:\\users\\oliver\\anaconda3\\lib\\site-packages (from prompt-toolkit<2.0.0,>=1.0.15->ipython->watermark) (0.1.7)\n",
      "Requirement already satisfied: parso>=0.2.0 in c:\\users\\oliver\\anaconda3\\lib\\site-packages (from jedi>=0.10->ipython->watermark) (0.2.0)\n"
     ]
    },
    {
     "name": "stderr",
     "output_type": "stream",
     "text": [
      "You are using pip version 10.0.1, however version 19.0.1 is available.\n",
      "You should consider upgrading via the 'python -m pip install --upgrade pip' command.\n"
     ]
    }
   ],
   "source": [
    "!pip install watermark"
   ]
  },
  {
   "cell_type": "code",
   "execution_count": 2,
   "metadata": {},
   "outputs": [
    {
     "name": "stdout",
     "output_type": "stream",
     "text": [
      "Zhuoyan_XU \n",
      "\n",
      "CPython 3.6.5\n",
      "IPython 6.4.0\n",
      "\n",
      "matplotlib 2.2.2\n"
     ]
    }
   ],
   "source": [
    "%load_ext watermark\n",
    "%watermark -a 'Zhuoyan_XU' -v -p matplotlib"
   ]
  },
  {
   "cell_type": "markdown",
   "metadata": {},
   "source": [
    "# HW 1: Implementing the Perceptron Algorithm in Python (40 pts)"
   ]
  },
  {
   "cell_type": "markdown",
   "metadata": {},
   "source": [
    "In this homework assignment, you are asked to implement the classic Perceptron by Frank Rosenblatt for binary classification (here: 0/1 class labels) as discussed in the lecture. \n",
    "\n",
    "In particular, you should only use \"basic\" or \"vanilla\" Python functions for this implementation. Hence, no `import`s besides matplotlib will be permitted for this homework.\n",
    "\n",
    "The goal of this exercise is to familiarize yourself with NumPy implementation that we discussed in class. Hence, you may wish to explore the NumPy code from the lecture further when you implement the Perceptron in \"pure\" Python. Note that you are also asked to use the overal structure of the `Perceptron` Python `class`. While it may seem strange to you at first, it will be useful later when will discuss PyTorch for deep learning. The way PyTorch works is similar to this class (i.e., using a model `class` with `forward` and `backward` methods). "
   ]
  },
  {
   "cell_type": "markdown",
   "metadata": {},
   "source": [
    "### Important!"
   ]
  },
  {
   "cell_type": "markdown",
   "metadata": {},
   "source": [
    "**The homework assignment is due on Thu, Feb 7, 2019 and should be submitted via Canvas.**\n",
    "\n",
    "- Please submit the `.ipynb` file with your solution as well as an HTML version (use `File -> export as -> HTML`) as a backup in case we cannot open your .ipynb on our computer.\n",
    "\n",
    "- I recommend using the conda package manager for installing Python 3.7 and Jupyter Notebook (or Jupyter Lab). You may find the lecture notes from my previous machine learning class (https://github.com/rasbt/stat479-machine-learning-fs18/blob/master/03_python/03_python_notes.pdf, Section 3) helpful. \n",
    "\n",
    "- Also consider this YouTube tutorial for a more visual setup guide for conda: https://www.youtube.com/watch?v=YJC6ldI3hWk (Python Tutorial: Anaconda - Installation and Using Conda). Please reach out to me or the TA if you need any help of have questions.\n"
   ]
  },
  {
   "cell_type": "markdown",
   "metadata": {},
   "source": [
    "## 0) Imports"
   ]
  },
  {
   "cell_type": "markdown",
   "metadata": {},
   "source": [
    "**No modification required.** You should execute this code and are encouraged to explore it further, but it is recommended to  not make any alterations here."
   ]
  },
  {
   "cell_type": "code",
   "execution_count": 3,
   "metadata": {},
   "outputs": [],
   "source": [
    "import matplotlib.pyplot as plt\n",
    "%matplotlib inline"
   ]
  },
  {
   "cell_type": "markdown",
   "metadata": {},
   "source": [
    "## 1) Loading the dataset"
   ]
  },
  {
   "cell_type": "markdown",
   "metadata": {},
   "source": [
    "**No modification required.** You should execute this code and are encouraged to explore it further, but it is recommended to  not make any alterations here."
   ]
  },
  {
   "cell_type": "code",
   "execution_count": 4,
   "metadata": {},
   "outputs": [
    {
     "name": "stdout",
     "output_type": "stream",
     "text": [
      "100 100\n"
     ]
    }
   ],
   "source": [
    "X, y = [], []\n",
    "\n",
    "with open('./dataset.csv', 'r') as f:\n",
    "    next(f)\n",
    "    for line in f:\n",
    "        line = line.strip()\n",
    "        if line:\n",
    "            values = line.split(',')\n",
    "        else:\n",
    "            continue\n",
    "        X.append([float(i) for i in values[:4]])\n",
    "        y.append(int(values[-1]))\n",
    "        \n",
    "print(len(X), len(y))"
   ]
  },
  {
   "cell_type": "code",
   "execution_count": 5,
   "metadata": {},
   "outputs": [],
   "source": [
    "import random\n",
    "\n",
    "\n",
    "random.seed(123)\n",
    "\n",
    "idx = list(range(len(X)))\n",
    "random.shuffle(idx)\n",
    "\n",
    "X_train = [X[i] for i in idx[:80]]\n",
    "y_train = [y[i] for i in idx[:80]]\n",
    "X_test = [X[i] for i in idx[80:]]\n",
    "y_test = [y[i] for i in idx[80:]]"
   ]
  },
  {
   "cell_type": "code",
   "execution_count": 6,
   "metadata": {},
   "outputs": [
    {
     "data": {
      "image/png": "[encoded data removed]",
      "text/plain": [
       "<Figure size 432x288 with 1 Axes>"
      ]
     },
     "metadata": {},
     "output_type": "display_data"
    }
   ],
   "source": [
    "plt.scatter([i[0] for idx, i in enumerate(X_train) if y_train[idx] == 0], \n",
    "            [i[1] for idx, i in enumerate(X_train) if y_train[idx] == 0],\n",
    "            label='class 0', marker='o')\n",
    "\n",
    "plt.scatter([i[0] for idx, i in enumerate(X_train) if y_train[idx] == 1], \n",
    "            [i[1] for idx, i in enumerate(X_train) if y_train[idx] == 1],\n",
    "            label='class 1', marker='s')\n",
    "\n",
    "plt.title('Training set')\n",
    "plt.xlabel('feature 1')\n",
    "plt.ylabel('feature 2')\n",
    "plt.xlim([0.0, 7])\n",
    "plt.ylim([-0.8, 0.8])\n",
    "plt.legend()\n",
    "plt.show()"
   ]
  },
  {
   "cell_type": "markdown",
   "metadata": {},
   "source": [
    "## Defining the Perceptron model"
   ]
  },
  {
   "cell_type": "markdown",
   "metadata": {},
   "source": [
    "Below, you need to complete the code of the Perceptron model class based on the framework I provided."
   ]
  },
  {
   "cell_type": "code",
   "execution_count": 7,
   "metadata": {},
   "outputs": [
    {
     "data": {
      "text/plain": [
       "[1.4, 0.2]"
      ]
     },
     "execution_count": 7,
     "metadata": {},
     "output_type": "execute_result"
    }
   ],
   "source": [
    "X[0][:2]"
   ]
  },
  {
   "cell_type": "code",
   "execution_count": 8,
   "metadata": {},
   "outputs": [],
   "source": [
    "class Perceptron():\n",
    "    def __init__(self, num_features):\n",
    "        self.num_features = num_features\n",
    "        self.weights = [0 for i in range(num_features)] \n",
    "        self.bias = 1\n",
    "\n",
    "    def forward(self, x):    ## every row of x (every sample)\n",
    "        linear = sum([x_i * w_i  for x_i,w_i in zip(x,self.weights)]) + self.bias\n",
    "        prediction = 1 if linear>0 else 0\n",
    "        return prediction\n",
    "        \n",
    "    def backward(self, x, y):  ## every sample of labels, y is a scalar\n",
    "        pred = self.forward(x)\n",
    "        err = y - pred\n",
    "        return err\n",
    "        \n",
    "    def train(self, x, y, epochs):  ## in this function,X is a matrix(kind of), y is a vector\n",
    "        for e in range(epochs):\n",
    "            \n",
    "            for i in range(len(y)):\n",
    "                err = self.backward(x[i][:self.num_features],y[i])\n",
    "                add_v = [j*err for j in x[i][:self.num_features]]\n",
    "                self.weights = [w_i + add_i for w_i,add_i in zip(self.weights,add_v)]\n",
    "                \n",
    "                self.bias += err\n",
    "                \n",
    "    def evaluate(self, x, y):  ## in this function, x is matrix(n*m), y is vector(n*1)\n",
    "        pred = [self.forward(x_irow) for x_irow in x]\n",
    "        accuracy = sum([i==j for i,j in zip(pred,y)])/len(y)\n",
    "        return accuracy"
   ]
  },
  {
   "cell_type": "markdown",
   "metadata": {},
   "source": [
    "## Training the Perceptron"
   ]
  },
  {
   "cell_type": "markdown",
   "metadata": {},
   "source": [
    "Here, you are asked to train the perceptron for 5 epochs and print out the Perceptron weight parameters and the value of the bias unit after training.\n",
    "\n",
    "- The code should be relatively similar to the code you've seen in the lecture."
   ]
  },
  {
   "cell_type": "code",
   "execution_count": 9,
   "metadata": {},
   "outputs": [
    {
     "name": "stdout",
     "output_type": "stream",
     "text": [
      "weights and bias: \n",
      "\n",
      "weights: [2.0999999999999996, -1.9000000000000001]\n",
      "bias: -5\n"
     ]
    }
   ],
   "source": [
    "ppn = Perceptron(num_features=2)\n",
    "\n",
    "ppn.train(X_train,y_train, epochs = 5)\n",
    "\n",
    "print(\"weights and bias: \\n\")\n",
    "print(\"weights: %s\" %ppn.weights)\n",
    "print(\"bias: %s\" %ppn.bias)"
   ]
  },
  {
   "cell_type": "markdown",
   "metadata": {},
   "source": [
    "## Evaluating the model"
   ]
  },
  {
   "cell_type": "markdown",
   "metadata": {},
   "source": [
    "Compute the prediction accuracy (in percent) for both the training set and the test set."
   ]
  },
  {
   "cell_type": "code",
   "execution_count": 10,
   "metadata": {},
   "outputs": [
    {
     "name": "stdout",
     "output_type": "stream",
     "text": [
      "Train set accuracy: 100.00%\n"
     ]
    }
   ],
   "source": [
    "train_acc = ppn.evaluate(X_train, y_train)\n",
    "print('Train set accuracy: %.2f%%' % (train_acc*100))"
   ]
  },
  {
   "cell_type": "code",
   "execution_count": 11,
   "metadata": {},
   "outputs": [
    {
     "name": "stdout",
     "output_type": "stream",
     "text": [
      "Test set accuracy: 100.00%\n"
     ]
    }
   ],
   "source": [
    "test_acc = ppn.evaluate(X_test, y_test)\n",
    "print('Test set accuracy: %.2f%%' % (test_acc*100))"
   ]
  },
  {
   "cell_type": "markdown",
   "metadata": {},
   "source": [
    "## Decision Boundary"
   ]
  },
  {
   "cell_type": "markdown",
   "metadata": {},
   "source": [
    "Make 2 scatterplots: 1 for the training dataset and 1 for the test dataset. Draw the respective decision boundaries of the perceptron in each plot (similar to the code example you have seen in the lecture)."
   ]
  },
  {
   "cell_type": "code",
   "execution_count": 12,
   "metadata": {},
   "outputs": [
    {
     "data": {
      "image/png": "[encoded data removed]",
      "text/plain": [
       "<Figure size 504x216 with 2 Axes>"
      ]
     },
     "metadata": {},
     "output_type": "display_data"
    }
   ],
   "source": [
    "##########################\n",
    "### 2D Decision Boundary\n",
    "##########################\n",
    "\n",
    "w, b = ppn.weights, ppn.bias\n",
    "\n",
    "x_min = -4\n",
    "y_min = ( (-(w[0] * x_min) - b) \n",
    "          / w[1] )\n",
    "\n",
    "x_max = 4\n",
    "y_max = ( (-(w[0] * x_max) - b) \n",
    "          / w[1] )\n",
    "\n",
    "\n",
    "fig, ax = plt.subplots(1, 2, sharex=True, figsize=(7, 3))\n",
    "\n",
    "ax[0].plot([x_min, x_max], [y_min, y_max])\n",
    "ax[1].plot([x_min, x_max], [y_min, y_max])\n",
    "\n",
    "X_train_0 = []\n",
    "X_train_1 = []\n",
    "for i in range(len(y_train)):\n",
    "    if y_train[i] == 0:\n",
    "        X_train_0.append(X_train[i])\n",
    "    else:\n",
    "        X_train_1.append(X_train[i])\n",
    "\n",
    "\n",
    "ax[0].scatter([i[0] for i in X_train_0], [i[1] for i in X_train_0], label='class 0', marker='o')\n",
    "ax[0].scatter([i[0] for i in X_train_1], [i[1] for i in X_train_1], label='class 1', marker='s')\n",
    "\n",
    "X_test_0 = []\n",
    "X_test_1 = []\n",
    "for i in range(len(y_test)):\n",
    "    if y_test[i] == 0:\n",
    "        X_test_0.append(X_test[i])\n",
    "    else:\n",
    "        X_test_1.append(X_test[i])\n",
    "\n",
    "\n",
    "ax[1].scatter([i[0] for i in X_test_0], [i[1] for i in X_test_0], label='class 0', marker='o')\n",
    "ax[1].scatter([i[0] for i in X_test_1], [i[1] for i in X_test_1], label='class 1', marker='s')\n",
    "\n",
    "ax[1].legend(loc='upper left')\n",
    "plt.show()"
   ]
  },
  {
   "cell_type": "code",
   "execution_count": 13,
   "metadata": {},
   "outputs": [
    {
     "data": {
      "image/png": "[encoded data removed]",
      "text/plain": [
       "<Figure size 504x216 with 2 Axes>"
      ]
     },
     "metadata": {},
     "output_type": "display_data"
    }
   ],
   "source": [
    "##########################\n",
    "### 2D Decision Boundary\n",
    "##########################\n",
    "\n",
    "w, b = ppn.weights, ppn.bias\n",
    "\n",
    "x_min = -4\n",
    "y_min = ( (-(w[0] * x_min) - b) \n",
    "          / w[1] )\n",
    "\n",
    "x_max = 4\n",
    "y_max = ( (-(w[0] * x_max) - b) \n",
    "          / w[1] )\n",
    "\n",
    "\n",
    "fig, ax = plt.subplots(1, 2, sharex=True, figsize=(7, 3))\n",
    "\n",
    "ax[0].plot([x_min, x_max], [y_min, y_max])\n",
    "ax[1].plot([x_min, x_max], [y_min, y_max])\n",
    "####\n",
    "\n",
    "ax[0].scatter([i[0] for idx, i in enumerate(X_train) if y_train[idx] == 0], \n",
    "            [i[1] for idx, i in enumerate(X_train) if y_train[idx] == 0],\n",
    "            label='class 0', marker='o')\n",
    "\n",
    "ax[0].scatter([i[0] for idx, i in enumerate(X_train) if y_train[idx] == 1], \n",
    "            [i[1] for idx, i in enumerate(X_train) if y_train[idx] == 1],\n",
    "            label='class 1', marker='s')\n",
    "\n",
    "ax[1].scatter([i[0] for idx, i in enumerate(X_test) if y_test[idx] == 0], \n",
    "            [i[1] for idx, i in enumerate(X_test) if y_test[idx] == 0],\n",
    "            label='class 0', marker='o')\n",
    "\n",
    "ax[1].scatter([i[0] for idx, i in enumerate(X_test) if y_test[idx] == 1], \n",
    "            [i[1] for idx, i in enumerate(X_test) if y_test[idx] == 1],\n",
    "            label='class 1', marker='s')\n",
    "\n",
    "\n",
    "plt.show()"
   ]
  }
 ],
 "metadata": {
  "kernelspec": {
   "display_name": "Python 3",
   "language": "python",
   "name": "python3"
  },
  "language_info": {
   "codemirror_mode": {
    "name": "ipython",
    "version": 3
   },
   "file_extension": ".py",
   "mimetype": "text/x-python",
   "name": "python",
   "nbconvert_exporter": "python",
   "pygments_lexer": "ipython3",
   "version": "3.6.5"
  },
  "toc": {
   "nav_menu": {},
   "number_sections": true,
   "sideBar": true,
   "skip_h1_title": false,
   "title_cell": "Table of Contents",
   "title_sidebar": "Contents",
   "toc_cell": false,
   "toc_position": {},
   "toc_section_display": true,
   "toc_window_display": false
  }
 },
 "nbformat": 4,
 "nbformat_minor": 2
}
