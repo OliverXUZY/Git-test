{
 "cells": [
  {
   "cell_type": "markdown",
   "metadata": {},
   "source": [
    "STAT 479: Deep Learning (Spring 2019)  \n",
    "Instructor: Sebastian Raschka (sraschka@wisc.edu)  \n",
    "Course website: http://pages.stat.wisc.edu/~sraschka/teaching/stat479-ss2019/  \n",
    "GitHub repository: https://github.com/rasbt/stat479-deep-learning-ss19"
   ]
  },
  {
   "cell_type": "code",
   "execution_count": 84,
   "metadata": {},
   "outputs": [
    {
     "name": "stdout",
     "output_type": "stream",
     "text": [
      "SebastianRaschka \n",
      "\n",
      "CPython 3.6.5\n",
      "IPython 6.4.0\n",
      "\n",
      "matplotlib 2.2.2\n",
      "torch 1.0.0\n",
      "pandas 0.23.0\n"
     ]
    }
   ],
   "source": [
    "%load_ext watermark\n",
    "%watermark -a 'SebastianRaschka' -v -p matplotlib,torch,pandas"
   ]
  },
  {
   "cell_type": "markdown",
   "metadata": {},
   "source": [
    "# HW 2: Implementing a Neuron with Nonlinear Activation (40 pts)"
   ]
  },
  {
   "cell_type": "markdown",
   "metadata": {},
   "source": [
    "### Important!"
   ]
  },
  {
   "cell_type": "markdown",
   "metadata": {},
   "source": [
    "**The homework assignment is due on Wed, Feb 21, 2019 (11:59 pm) and should be submitted via Canvas.**\n",
    "\n",
    "- Please submit the `.ipynb` file with your solution as well as an HTML version (use `File -> export as -> HTML`) as a backup in case we cannot open your .ipynb on our computer.\n",
    "\n",
    "- I recommend using the conda package manager for installing Python 3.7 and Jupyter Notebook (or Jupyter Lab). You may find the lecture notes from my previous machine learning class (https://github.com/rasbt/stat479-machine-learning-fs18/blob/master/03_python/03_python_notes.pdf, Section 3) helpful. \n",
    "\n",
    "- Also consider this YouTube tutorial for a more visual setup guide for conda: https://www.youtube.com/watch?v=YJC6ldI3hWk (Python Tutorial: Anaconda - Installation and Using Conda). Please reach out to me or the TA if you need any help of have questions.\n"
   ]
  },
  {
   "cell_type": "markdown",
   "metadata": {},
   "source": [
    "# Problem Setting"
   ]
  },
  {
   "cell_type": "markdown",
   "metadata": {},
   "source": [
    "Suppose you have a neuron model similar to ADALINE (discussed in class) but the activation function (which is an identity function in ADALINE) is replaced by a non-linear activation function. \n",
    "\n",
    "![](images/neuron.png)\n",
    "\n",
    "\n",
    "This activation function is defined as\n",
    "\n",
    "\n",
    "$$\n",
    "\\sigma(z) = \\frac{1}{1 + e^{-z}},\n",
    "$$\n",
    "\n",
    "where z denotes the net input,  $z = \\mathbf{w}^\\top \\mathbf{x}$ (for a single training example, we write $z^{[i]} = \\mathbf{w}^\\top \\mathbf{x}^{[i]}$).\n",
    "\n",
    "Assume now that we want learn the parameters of the neuron model for a binary classification task with class labels $y \\in \\{0, 1\\}$ similar to ADALINE. We use the same loss function, mean squared error (MSE), as in ADALINE, during training:\n",
    "\n",
    "$$\n",
    "\\mathcal{L}(\\mathbf{\\hat{y}}, \\mathbf{y}) = \\frac{1}{n} \\sum_{i}^{} (\\hat{y}^{[i]} - y^{[i]})^2.\n",
    "$$"
   ]
  },
  {
   "cell_type": "markdown",
   "metadata": {},
   "source": [
    "## TASK 1: Compute the Loss Gradients with respect to the weights and bias unit"
   ]
  },
  {
   "cell_type": "markdown",
   "metadata": {},
   "source": [
    "Your task is to derive the gradient of the loss $\\mathcal{L}$ with respect to the weight vector and the bias unit and formulate the learning rule. \n",
    "\n",
    "Remember that the gradient of the loss is defined as \n",
    "\n",
    "$$\n",
    "\\nabla_\\mathbf{w} \\mathcal{L}(\\mathbf{w}) = \n",
    "\\begin{bmatrix}\n",
    "\\frac{\\partial \\mathcal{L}(\\mathbf{w})}{\\partial w_1}\\\\\n",
    "\\vdots \\\\\n",
    "\\frac{\\partial \\mathcal{L}(\\mathbf{w})}{\\partial w_m}\\\\\n",
    "\\end{bmatrix}\n",
    "$$\n",
    "\n",
    "**For simplicity, it is sufficient if you write down the partial derivative and learning rule for a single weight $w_j$ and the bias unit $b$**. \n",
    "\n",
    "To provide you with a hint, recall that we computed the partial Loss derivatives for ADALINE as follows:"
   ]
  },
  {
   "cell_type": "markdown",
   "metadata": {},
   "source": [
    "$$\n",
    "\\begin{align}\n",
    "\\frac{\\partial \\mathcal{L}}{\\partial w_j} &= \\frac{\\partial}{\\partial w_j} \\frac{1}{n} \\sum_i (\\hat{y}^{[i]} - y^{[i]} )^2\\\\\n",
    "&= \\frac{\\partial}{\\partial w_j}  \\frac{1}{n} \\sum_i (\\sigma(\\mathbf{w}^T\\mathbf{x}^{[i]} + b) - y^{[i]})^2\\\\\n",
    "\\\\\n",
    "&= \\quad ... \\\\\n",
    "\\\\\n",
    "&= \\sum_i \\frac{2}{n}  (\\sigma(\\mathbf{w}^T\\mathbf{x}^{[i]} + b) - y^{[i]})   x_j^{[i]}\n",
    "\\end{align}\n",
    "$$"
   ]
  },
  {
   "cell_type": "markdown",
   "metadata": {},
   "source": [
    "<br>\n",
    "<br>"
   ]
  },
  {
   "cell_type": "markdown",
   "metadata": {},
   "source": [
    "$$\n",
    "\\begin{align}\n",
    "\\frac{\\partial \\mathcal{L}}{\\partial b} &= \\frac{\\partial}{\\partial b} \\frac{1}{n}\\sum_i (\\hat{y}^{[i]} - y^{[i]} )^2\\\\\n",
    "&= \\frac{\\partial}{\\partial b}  \\frac{1}{n} \\sum_i (\\sigma(\\mathbf{w}^T\\mathbf{x}^{[i]} + b) - y^{[i]})^2\\\\\n",
    "\\\\\n",
    "&= \\quad ... \\\\\n",
    "\\\\\n",
    "&= \\sum_i \\frac{2}{n}  (\\sigma(\\mathbf{w}^T\\mathbf{x}^{[i]} + b) - y^{[i]})\n",
    "\\end{align}\n",
    "$$"
   ]
  },
  {
   "cell_type": "markdown",
   "metadata": {},
   "source": [
    "Again, your task is to derive $\\frac{\\partial \\mathcal{L}}{\\partial w_j}$ and $\\frac{\\partial \\mathcal{L}}{\\partial b}$ for the neuron model with the non-linear activation function $\\sigma(\\mathbf{w}^\\top \\mathbf{x}) =  1 / (1+exp(-\\mathbf{w}^\\top \\mathbf{x}))$.\n",
    "\n",
    "For partial credits in case of a wrong solution, also write down the individual steps in the cell below."
   ]
  },
  {
   "cell_type": "markdown",
   "metadata": {},
   "source": [
    "---"
   ]
  },
  {
   "cell_type": "markdown",
   "metadata": {},
   "source": [
    "**!!!Fill in with your solution below!!!**\n",
    "\n",
    "$$\n",
    "\\begin{align}\n",
    "\\frac{\\partial \\mathcal{L}}{\\partial w_j} &= \\frac{\\partial}{\\partial w_j} \\frac{1}{n}\\sum_i (\\hat{y}^{[i]} - y^{[i]} )^2\\\\\n",
    "&= \\frac{\\partial}{\\partial w_j}  \\frac{1}{n} \\sum_i (\\sigma(\\mathbf{w}^T\\mathbf{x}^{[i]} + b) - y^{[i]})^2\\\\\n",
    "\\\\\n",
    "&= \\sum_i   \\frac{2}{n}  (\\sigma(\\mathbf{w}^T\\mathbf{x}^{[i]} + b) - y^{[i]}) \\frac{\\partial}{\\partial w_j} \\sigma(\\mathbf{w}^T\\mathbf{x}^{[i]} + b)\\\\\n",
    "\\\\\n",
    "&= \\sum_i   \\frac{2}{n}  (\\sigma(\\mathbf{w}^T\\mathbf{x}^{[i]} + b) - y^{[i]}) \\sigma^{'}(\\mathbf{w}^T\\mathbf{x}^{[i]} + b) \\frac{\\partial \\mathbf{w}^T\\mathbf{x}^{[i]}}{ \\partial w_j}\\\\\n",
    "\\\\\n",
    "&= \\sum_i \\frac{2}{n}  (\\sigma(\\mathbf{w}^T\\mathbf{x}^{[i]} + b) - y^{[i]}) \\sigma(\\mathbf{w}^T\\mathbf{x}^{[i]} + b) [1-\\sigma(\\mathbf{w}^T\\mathbf{x}^{[i]} + b) ] x_j^{[i]} \\\\\n",
    "\\\\\n",
    "\\end{align}\n",
    "$$"
   ]
  },
  {
   "cell_type": "markdown",
   "metadata": {},
   "source": [
    "<br>\n",
    "<br>"
   ]
  },
  {
   "cell_type": "markdown",
   "metadata": {},
   "source": [
    "**!!!Fill in with your solution below!!!**\n",
    "$$\n",
    "\\begin{align}\n",
    "\\frac{\\partial \\mathcal{L}}{\\partial b} &= \\frac{\\partial}{\\partial b} \\frac{1}{n} \\sum_i (\\hat{y}^{[i]} - y^{[i]} )^2\\\\\n",
    "&= \\frac{\\partial}{\\partial b}  \\frac{1}{n} \\sum_i (\\sigma(\\mathbf{w}^T\\mathbf{x}^{[i]} + b) - y^{[i]})^2\\\\\n",
    "\\\\\n",
    "&= \\sum_i   \\frac{2}{n}  (\\sigma(\\mathbf{w}^T\\mathbf{x}^{[i]} + b) - y^{[i]}) \\frac{\\partial}{\\partial b} \\sigma(\\mathbf{w}^T\\mathbf{x}^{[i]} + b)\\\\\n",
    "\\\\\n",
    "&= \\sum_i   \\frac{2}{n}  (\\sigma(\\mathbf{w}^T\\mathbf{x}^{[i]} + b) - y^{[i]}) \\sigma^{'}(\\mathbf{w}^T\\mathbf{x}^{[i]} + b) \\\\\n",
    "\\\\\n",
    "&= \\sum_i \\frac{2}{n}  (\\sigma(\\mathbf{w}^T\\mathbf{x}^{[i]} + b) - y^{[i]}) \\sigma(\\mathbf{w}^T\\mathbf{x}^{[i]} + b) [1-\\sigma(\\mathbf{w}^T\\mathbf{x}^{[i]} + b) ] \\\\\n",
    "\\end{align}\n",
    "$$"
   ]
  },
  {
   "cell_type": "code",
   "execution_count": null,
   "metadata": {},
   "outputs": [],
   "source": []
  },
  {
   "cell_type": "markdown",
   "metadata": {},
   "source": [
    "---"
   ]
  },
  {
   "cell_type": "markdown",
   "metadata": {},
   "source": [
    "# Experimental Section"
   ]
  },
  {
   "cell_type": "markdown",
   "metadata": {},
   "source": [
    "Complete the code below, the missing parts are indicated via \n",
    "\n",
    "    # <YOUR CODE HERE>\n",
    "    \n",
    "to implement the neuron model (it is very similar to the ADALINE model we discussed in class, except the derivatives)."
   ]
  },
  {
   "cell_type": "markdown",
   "metadata": {},
   "source": [
    "## Imports (Just Execute)"
   ]
  },
  {
   "cell_type": "markdown",
   "metadata": {},
   "source": [
    "**No modification required.** You should execute this code and are encouraged to explore it further, but it is recommended to  not make any alterations here."
   ]
  },
  {
   "cell_type": "code",
   "execution_count": 1,
   "metadata": {},
   "outputs": [],
   "source": [
    "import matplotlib.pyplot as plt\n",
    "import pandas as pd\n",
    "import torch\n",
    "%matplotlib inline"
   ]
  },
  {
   "cell_type": "markdown",
   "metadata": {},
   "source": [
    "## Loading the dataset (Just Execute)"
   ]
  },
  {
   "cell_type": "markdown",
   "metadata": {},
   "source": [
    "**No modification required.** You should execute this code and are encouraged to explore it further, but it is recommended to  not make any alterations here."
   ]
  },
  {
   "cell_type": "code",
   "execution_count": 6,
   "metadata": {},
   "outputs": [
    {
     "data": {
      "text/plain": [
       "array(['Iris-setosa', 'Iris-versicolor', 'Iris-virginica'], dtype=object)"
      ]
     },
     "execution_count": 6,
     "metadata": {},
     "output_type": "execute_result"
    }
   ],
   "source": [
    "import numpy as np\n",
    "df = pd.read_csv('./datasets/iris.data', index_col=None, header=None)\n",
    "df.columns = ['x1', 'x2', 'x3', 'x4', 'y']\n",
    "#df = df.iloc[50:150]\n",
    "np.unique(df.y)"
   ]
  },
  {
   "cell_type": "code",
   "execution_count": 8,
   "metadata": {},
   "outputs": [
    {
     "data": {
      "text/html": [
       "<div>\n",
       "<style scoped>\n",
       "    .dataframe tbody tr th:only-of-type {\n",
       "        vertical-align: middle;\n",
       "    }\n",
       "\n",
       "    .dataframe tbody tr th {\n",
       "        vertical-align: top;\n",
       "    }\n",
       "\n",
       "    .dataframe thead th {\n",
       "        text-align: right;\n",
       "    }\n",
       "</style>\n",
       "<table border=\"1\" class=\"dataframe\">\n",
       "  <thead>\n",
       "    <tr style=\"text-align: right;\">\n",
       "      <th></th>\n",
       "      <th>x1</th>\n",
       "      <th>x2</th>\n",
       "      <th>x3</th>\n",
       "      <th>x4</th>\n",
       "      <th>y</th>\n",
       "    </tr>\n",
       "  </thead>\n",
       "  <tbody>\n",
       "    <tr>\n",
       "      <th>145</th>\n",
       "      <td>6.7</td>\n",
       "      <td>3.0</td>\n",
       "      <td>5.2</td>\n",
       "      <td>2.3</td>\n",
       "      <td>1</td>\n",
       "    </tr>\n",
       "    <tr>\n",
       "      <th>146</th>\n",
       "      <td>6.3</td>\n",
       "      <td>2.5</td>\n",
       "      <td>5.0</td>\n",
       "      <td>1.9</td>\n",
       "      <td>1</td>\n",
       "    </tr>\n",
       "    <tr>\n",
       "      <th>147</th>\n",
       "      <td>6.5</td>\n",
       "      <td>3.0</td>\n",
       "      <td>5.2</td>\n",
       "      <td>2.0</td>\n",
       "      <td>1</td>\n",
       "    </tr>\n",
       "    <tr>\n",
       "      <th>148</th>\n",
       "      <td>6.2</td>\n",
       "      <td>3.4</td>\n",
       "      <td>5.4</td>\n",
       "      <td>2.3</td>\n",
       "      <td>1</td>\n",
       "    </tr>\n",
       "    <tr>\n",
       "      <th>149</th>\n",
       "      <td>5.9</td>\n",
       "      <td>3.0</td>\n",
       "      <td>5.1</td>\n",
       "      <td>1.8</td>\n",
       "      <td>1</td>\n",
       "    </tr>\n",
       "  </tbody>\n",
       "</table>\n",
       "</div>"
      ],
      "text/plain": [
       "      x1   x2   x3   x4  y\n",
       "145  6.7  3.0  5.2  2.3  1\n",
       "146  6.3  2.5  5.0  1.9  1\n",
       "147  6.5  3.0  5.2  2.0  1\n",
       "148  6.2  3.4  5.4  2.3  1\n",
       "149  5.9  3.0  5.1  1.8  1"
      ]
     },
     "execution_count": 8,
     "metadata": {},
     "output_type": "execute_result"
    }
   ],
   "source": [
    "df = pd.read_csv('./datasets/iris.data', index_col=None, header=None)\n",
    "df.columns = ['x1', 'x2', 'x3', 'x4', 'y']\n",
    "df = df.iloc[50:150]\n",
    "df['y'] = df['y'].apply(lambda x: 0 if x == 'Iris-versicolor' else 1)\n",
    "df.tail()"
   ]
  },
  {
   "cell_type": "code",
   "execution_count": 9,
   "metadata": {},
   "outputs": [],
   "source": [
    "# Assign features and target\n",
    "\n",
    "X = torch.tensor(df[['x2', 'x3']].values, dtype=torch.float)\n",
    "y = torch.tensor(df['y'].values, dtype=torch.int)\n",
    "\n",
    "# Shuffling & train/test split\n",
    "\n",
    "torch.manual_seed(123)\n",
    "shuffle_idx = torch.randperm(y.size(0), dtype=torch.long)\n",
    "\n",
    "X, y = X[shuffle_idx], y[shuffle_idx]\n",
    "\n",
    "percent70 = int(shuffle_idx.size(0)*0.7)\n",
    "\n",
    "X_train, X_test = X[shuffle_idx[:percent70]], X[shuffle_idx[percent70:]]\n",
    "y_train, y_test = y[shuffle_idx[:percent70]], y[shuffle_idx[percent70:]]\n",
    "\n",
    "# Normalize (mean zero, unit variance)\n",
    "\n",
    "mu, sigma = X_train.mean(dim=0), X_train.std(dim=0)\n",
    "X_train = (X_train - mu) / sigma\n",
    "X_test = (X_test - mu) / sigma"
   ]
  },
  {
   "cell_type": "code",
   "execution_count": 35,
   "metadata": {},
   "outputs": [
    {
     "data": {
      "image/png": "[encoded data removed]",
      "text/plain": [
       "<Figure size 432x288 with 1 Axes>"
      ]
     },
     "metadata": {},
     "output_type": "display_data"
    }
   ],
   "source": [
    "plt.scatter(X_train[y_train == 0, 0], X_train[y_train == 0, 1], label='class 0')\n",
    "plt.scatter(X_train[y_train == 1, 0], X_train[y_train == 1, 1], label='class 1')\n",
    "plt.legend()\n",
    "plt.show()"
   ]
  },
  {
   "cell_type": "code",
   "execution_count": 36,
   "metadata": {},
   "outputs": [
    {
     "data": {
      "image/png": "[encoded data removed]",
      "text/plain": [
       "<Figure size 432x288 with 1 Axes>"
      ]
     },
     "metadata": {},
     "output_type": "display_data"
    }
   ],
   "source": [
    "plt.scatter(X_test[y_test == 0, 0], X_test[y_test == 0, 1], label='class 0')\n",
    "plt.scatter(X_test[y_test == 1, 0], X_test[y_test == 1, 1], label='class 1')\n",
    "plt.legend()\n",
    "plt.show()"
   ]
  },
  {
   "cell_type": "markdown",
   "metadata": {},
   "source": [
    "## TASK 2: Implement the Neuron Model"
   ]
  },
  {
   "cell_type": "markdown",
   "metadata": {},
   "source": [
    "Your task is to complete the `backward` method to compute the gradients based on the gradients you computed in TASK1."
   ]
  },
  {
   "cell_type": "code",
   "execution_count": 115,
   "metadata": {},
   "outputs": [],
   "source": [
    "class NeuronModel():\n",
    "    def __init__(self, num_features):\n",
    "        self.num_features = num_features\n",
    "        self.weights = torch.zeros(num_features, 1, \n",
    "                                   dtype=torch.float)\n",
    "        self.bias = torch.zeros(1, dtype=torch.float)\n",
    "        \n",
    "    def activation_func(self, x):\n",
    "        return 1. / (1. + torch.exp(-x))\n",
    "    \n",
    "    def netinput_func(self, x, w, b):\n",
    "         return torch.add(torch.mm(x, w), b)\n",
    "\n",
    "    def forward(self, x):\n",
    "        netinputs = self.netinput_func(x, self.weights, self.bias)\n",
    "        activations = self.activation_func(netinputs)\n",
    "        return activations.view(-1)\n",
    "        \n",
    "    def backward(self, x, yhat, y):  \n",
    "        \n",
    "        # note that here, \"yhat\" are the \"activations\" \n",
    "        netinputs = self.netinput_func(x, self.weights, self.bias)\n",
    "        \n",
    "        ###############################################################################\n",
    "        # YOU ONLY NEED TO EDIT IN THE BOX BELOW\n",
    "        ###############################################################################\n",
    "        grad_loss_yhat = y - yhat\n",
    "        \n",
    "        grad_yhat_bias = self.activation_func(netinputs).view(-1) *\\\n",
    "                                                 (1-self.activation_func(netinputs).view(-1))\n",
    "        diag = torch.diag(self.activation_func(netinputs).view(-1) *\\\n",
    "                                                 (1-self.activation_func(netinputs).view(-1)))\n",
    "        grad_yhat_weights = torch.mm(diag,x)\n",
    "        \n",
    "        \n",
    "        grad_loss_weights = -torch.mm(grad_yhat_weights.t(),grad_loss_yhat.view(-1,1))\n",
    "        \n",
    "        grad_loss_bias = -torch.sum(grad_yhat_bias * grad_loss_yhat)\n",
    "        ################################################################################\n",
    "        \n",
    "        return (-1)*grad_loss_weights, (-1)*grad_loss_bias"
   ]
  },
  {
   "cell_type": "code",
   "execution_count": 116,
   "metadata": {},
   "outputs": [],
   "source": [
    "model = NeuronModel(num_features=X_train.size(1))\n",
    "\n",
    "yhat = model.forward(X_train)"
   ]
  },
  {
   "cell_type": "code",
   "execution_count": 118,
   "metadata": {},
   "outputs": [
    {
     "data": {
      "text/plain": [
       "(tensor([[2.1225],\n",
       "         [6.7218]]), tensor(-0.2500))"
      ]
     },
     "execution_count": 118,
     "metadata": {},
     "output_type": "execute_result"
    }
   ],
   "source": [
    "negative_grad_w, negative_grad_b = \\\n",
    "                model.backward(X_train, yhat, y_train.float())\n",
    "negative_grad_w,negative_grad_b"
   ]
  },
  {
   "cell_type": "markdown",
   "metadata": {},
   "source": [
    "## No modifications required beyond this point"
   ]
  },
  {
   "cell_type": "markdown",
   "metadata": {},
   "source": [
    "You do not need to modify anything below. However, you should run and analyze the code to verify that your implementation of the Neuron model is likely correct."
   ]
  },
  {
   "cell_type": "markdown",
   "metadata": {},
   "source": [
    "## Training the Neuron Model (Just Execute)"
   ]
  },
  {
   "cell_type": "code",
   "execution_count": 121,
   "metadata": {},
   "outputs": [],
   "source": [
    "####################################################\n",
    "##### Training and evaluation wrappers\n",
    "###################################################\n",
    "\n",
    "def loss(yhat, y):\n",
    "    return torch.mean((yhat - y)**2) / y.size(0)\n",
    "\n",
    "\n",
    "def train(model, x, y, num_epochs,\n",
    "          learning_rate=0.01, seed=123, minibatch_size=10):\n",
    "    cost = []\n",
    "    \n",
    "    torch.manual_seed(seed)\n",
    "    for e in range(num_epochs):\n",
    "        \n",
    "        #### Shuffle epoch\n",
    "        shuffle_idx = torch.randperm(y.size(0), dtype=torch.long)\n",
    "        minibatches = torch.split(shuffle_idx, minibatch_size)\n",
    "        \n",
    "        for minibatch_idx in minibatches:\n",
    "\n",
    "            #### Compute outputs ####\n",
    "            yhat = model.forward(x[minibatch_idx])\n",
    "\n",
    "            #### Compute gradients ####\n",
    "            negative_grad_w, negative_grad_b = \\\n",
    "                model.backward(x[minibatch_idx], yhat, y[minibatch_idx])\n",
    "\n",
    "            #### Update weights ####\n",
    "            model.weights += learning_rate * negative_grad_w\n",
    "            model.bias += learning_rate * negative_grad_b\n",
    "            \n",
    "            #### Logging ####\n",
    "            #minibatch_loss = loss(yhat, y[minibatch_idx])\n",
    "            #print('    Minibatch MSE: %.3f' % minibatch_loss)\n",
    "\n",
    "        #### Logging ####\n",
    "        yhat = model.forward(x)\n",
    "        curr_loss = loss(yhat, y)\n",
    "        print('Epoch: %03d' % (e+1), end=\"\")\n",
    "        print(' | MSE: %.5f' % curr_loss)\n",
    "        cost.append(curr_loss)\n",
    "\n",
    "    return cost"
   ]
  },
  {
   "cell_type": "code",
   "execution_count": 122,
   "metadata": {},
   "outputs": [
    {
     "name": "stdout",
     "output_type": "stream",
     "text": [
      "Epoch: 001 | MSE: 0.00137\n",
      "Epoch: 002 | MSE: 0.00113\n",
      "Epoch: 003 | MSE: 0.00103\n",
      "Epoch: 004 | MSE: 0.00096\n",
      "Epoch: 005 | MSE: 0.00093\n",
      "Epoch: 006 | MSE: 0.00091\n",
      "Epoch: 007 | MSE: 0.00089\n",
      "Epoch: 008 | MSE: 0.00088\n",
      "Epoch: 009 | MSE: 0.00087\n",
      "Epoch: 010 | MSE: 0.00086\n",
      "Epoch: 011 | MSE: 0.00085\n",
      "Epoch: 012 | MSE: 0.00085\n",
      "Epoch: 013 | MSE: 0.00084\n",
      "Epoch: 014 | MSE: 0.00084\n",
      "Epoch: 015 | MSE: 0.00084\n",
      "Epoch: 016 | MSE: 0.00084\n",
      "Epoch: 017 | MSE: 0.00083\n",
      "Epoch: 018 | MSE: 0.00083\n",
      "Epoch: 019 | MSE: 0.00083\n",
      "Epoch: 020 | MSE: 0.00083\n",
      "Epoch: 021 | MSE: 0.00083\n",
      "Epoch: 022 | MSE: 0.00083\n",
      "Epoch: 023 | MSE: 0.00082\n",
      "Epoch: 024 | MSE: 0.00082\n",
      "Epoch: 025 | MSE: 0.00082\n",
      "Epoch: 026 | MSE: 0.00082\n",
      "Epoch: 027 | MSE: 0.00082\n",
      "Epoch: 028 | MSE: 0.00082\n",
      "Epoch: 029 | MSE: 0.00082\n",
      "Epoch: 030 | MSE: 0.00082\n",
      "Epoch: 031 | MSE: 0.00082\n",
      "Epoch: 032 | MSE: 0.00082\n",
      "Epoch: 033 | MSE: 0.00082\n",
      "Epoch: 034 | MSE: 0.00082\n",
      "Epoch: 035 | MSE: 0.00082\n",
      "Epoch: 036 | MSE: 0.00082\n",
      "Epoch: 037 | MSE: 0.00082\n",
      "Epoch: 038 | MSE: 0.00082\n",
      "Epoch: 039 | MSE: 0.00082\n",
      "Epoch: 040 | MSE: 0.00082\n",
      "Epoch: 041 | MSE: 0.00082\n",
      "Epoch: 042 | MSE: 0.00082\n",
      "Epoch: 043 | MSE: 0.00082\n",
      "Epoch: 044 | MSE: 0.00082\n",
      "Epoch: 045 | MSE: 0.00082\n",
      "Epoch: 046 | MSE: 0.00082\n",
      "Epoch: 047 | MSE: 0.00082\n",
      "Epoch: 048 | MSE: 0.00082\n",
      "Epoch: 049 | MSE: 0.00082\n",
      "Epoch: 050 | MSE: 0.00082\n",
      "Epoch: 051 | MSE: 0.00082\n",
      "Epoch: 052 | MSE: 0.00082\n",
      "Epoch: 053 | MSE: 0.00082\n",
      "Epoch: 054 | MSE: 0.00082\n",
      "Epoch: 055 | MSE: 0.00082\n",
      "Epoch: 056 | MSE: 0.00082\n",
      "Epoch: 057 | MSE: 0.00082\n",
      "Epoch: 058 | MSE: 0.00082\n",
      "Epoch: 059 | MSE: 0.00082\n",
      "Epoch: 060 | MSE: 0.00082\n",
      "Epoch: 061 | MSE: 0.00082\n",
      "Epoch: 062 | MSE: 0.00082\n",
      "Epoch: 063 | MSE: 0.00082\n",
      "Epoch: 064 | MSE: 0.00082\n",
      "Epoch: 065 | MSE: 0.00082\n",
      "Epoch: 066 | MSE: 0.00082\n",
      "Epoch: 067 | MSE: 0.00082\n",
      "Epoch: 068 | MSE: 0.00082\n",
      "Epoch: 069 | MSE: 0.00082\n",
      "Epoch: 070 | MSE: 0.00082\n",
      "Epoch: 071 | MSE: 0.00082\n",
      "Epoch: 072 | MSE: 0.00082\n",
      "Epoch: 073 | MSE: 0.00082\n",
      "Epoch: 074 | MSE: 0.00082\n",
      "Epoch: 075 | MSE: 0.00082\n",
      "Epoch: 076 | MSE: 0.00082\n",
      "Epoch: 077 | MSE: 0.00082\n",
      "Epoch: 078 | MSE: 0.00082\n",
      "Epoch: 079 | MSE: 0.00082\n",
      "Epoch: 080 | MSE: 0.00082\n",
      "Epoch: 081 | MSE: 0.00082\n",
      "Epoch: 082 | MSE: 0.00082\n",
      "Epoch: 083 | MSE: 0.00082\n",
      "Epoch: 084 | MSE: 0.00082\n",
      "Epoch: 085 | MSE: 0.00082\n",
      "Epoch: 086 | MSE: 0.00082\n",
      "Epoch: 087 | MSE: 0.00082\n",
      "Epoch: 088 | MSE: 0.00082\n",
      "Epoch: 089 | MSE: 0.00082\n",
      "Epoch: 090 | MSE: 0.00082\n",
      "Epoch: 091 | MSE: 0.00082\n",
      "Epoch: 092 | MSE: 0.00082\n",
      "Epoch: 093 | MSE: 0.00082\n",
      "Epoch: 094 | MSE: 0.00082\n",
      "Epoch: 095 | MSE: 0.00082\n",
      "Epoch: 096 | MSE: 0.00082\n",
      "Epoch: 097 | MSE: 0.00082\n",
      "Epoch: 098 | MSE: 0.00082\n",
      "Epoch: 099 | MSE: 0.00082\n",
      "Epoch: 100 | MSE: 0.00082\n",
      "Epoch: 101 | MSE: 0.00082\n",
      "Epoch: 102 | MSE: 0.00082\n",
      "Epoch: 103 | MSE: 0.00082\n",
      "Epoch: 104 | MSE: 0.00082\n",
      "Epoch: 105 | MSE: 0.00082\n",
      "Epoch: 106 | MSE: 0.00082\n",
      "Epoch: 107 | MSE: 0.00082\n",
      "Epoch: 108 | MSE: 0.00082\n",
      "Epoch: 109 | MSE: 0.00082\n",
      "Epoch: 110 | MSE: 0.00082\n",
      "Epoch: 111 | MSE: 0.00082\n",
      "Epoch: 112 | MSE: 0.00082\n",
      "Epoch: 113 | MSE: 0.00082\n",
      "Epoch: 114 | MSE: 0.00082\n",
      "Epoch: 115 | MSE: 0.00082\n",
      "Epoch: 116 | MSE: 0.00082\n",
      "Epoch: 117 | MSE: 0.00082\n",
      "Epoch: 118 | MSE: 0.00082\n",
      "Epoch: 119 | MSE: 0.00082\n",
      "Epoch: 120 | MSE: 0.00082\n",
      "Epoch: 121 | MSE: 0.00082\n",
      "Epoch: 122 | MSE: 0.00082\n",
      "Epoch: 123 | MSE: 0.00082\n",
      "Epoch: 124 | MSE: 0.00082\n",
      "Epoch: 125 | MSE: 0.00082\n",
      "Epoch: 126 | MSE: 0.00082\n",
      "Epoch: 127 | MSE: 0.00082\n",
      "Epoch: 128 | MSE: 0.00082\n",
      "Epoch: 129 | MSE: 0.00082\n",
      "Epoch: 130 | MSE: 0.00082\n",
      "Epoch: 131 | MSE: 0.00082\n",
      "Epoch: 132 | MSE: 0.00082\n",
      "Epoch: 133 | MSE: 0.00082\n",
      "Epoch: 134 | MSE: 0.00082\n",
      "Epoch: 135 | MSE: 0.00082\n",
      "Epoch: 136 | MSE: 0.00082\n",
      "Epoch: 137 | MSE: 0.00082\n",
      "Epoch: 138 | MSE: 0.00082\n",
      "Epoch: 139 | MSE: 0.00082\n",
      "Epoch: 140 | MSE: 0.00082\n",
      "Epoch: 141 | MSE: 0.00082\n",
      "Epoch: 142 | MSE: 0.00082\n",
      "Epoch: 143 | MSE: 0.00082\n",
      "Epoch: 144 | MSE: 0.00082\n",
      "Epoch: 145 | MSE: 0.00082\n",
      "Epoch: 146 | MSE: 0.00082\n",
      "Epoch: 147 | MSE: 0.00082\n",
      "Epoch: 148 | MSE: 0.00082\n",
      "Epoch: 149 | MSE: 0.00082\n",
      "Epoch: 150 | MSE: 0.00082\n"
     ]
    }
   ],
   "source": [
    "model = NeuronModel(num_features=X_train.size(1))\n",
    "cost = train(model, \n",
    "             X_train, y_train.float(),\n",
    "             num_epochs=150,\n",
    "             learning_rate=0.5,\n",
    "             seed=123,\n",
    "             minibatch_size=10)"
   ]
  },
  {
   "cell_type": "markdown",
   "metadata": {},
   "source": [
    "## Evaluate the Trained Model  (Just Execute)"
   ]
  },
  {
   "cell_type": "code",
   "execution_count": 123,
   "metadata": {},
   "outputs": [
    {
     "data": {
      "image/png": "[encoded data removed]",
      "text/plain": [
       "<Figure size 432x288 with 1 Axes>"
      ]
     },
     "metadata": {},
     "output_type": "display_data"
    }
   ],
   "source": [
    "plt.plot(range(len(cost)), cost)\n",
    "plt.ylabel('Mean Squared Error')\n",
    "plt.xlabel('Epoch')\n",
    "plt.show()"
   ]
  },
  {
   "cell_type": "code",
   "execution_count": 125,
   "metadata": {},
   "outputs": [
    {
     "name": "stdout",
     "output_type": "stream",
     "text": [
      "Weights tensor([[-0.7288],\n",
      "        [ 5.0649]])\n",
      "Bias tensor([0.0620])\n"
     ]
    }
   ],
   "source": [
    "print('Weights', model.weights)\n",
    "print('Bias', model.bias)"
   ]
  },
  {
   "cell_type": "code",
   "execution_count": 126,
   "metadata": {},
   "outputs": [],
   "source": [
    "def custom_where(cond, x_1, x_2):\n",
    "    return (cond * x_1) + ((1-cond) * x_2)"
   ]
  },
  {
   "cell_type": "code",
   "execution_count": 127,
   "metadata": {},
   "outputs": [
    {
     "name": "stdout",
     "output_type": "stream",
     "text": [
      "Training Accuracy: 91.43\n",
      "Test Accuracy: 96.67\n"
     ]
    }
   ],
   "source": [
    "train_pred = model.forward(X_train)\n",
    "train_acc = torch.mean(\n",
    "    (custom_where(train_pred > 0.5, 1, 0).int() == y_train).float())\n",
    "\n",
    "test_pred = model.forward(X_test)\n",
    "test_acc = torch.mean(\n",
    "    (custom_where(test_pred > 0.5, 1, 0).int() == y_test).float())\n",
    "\n",
    "print('Training Accuracy: %.2f' % (train_acc*100))\n",
    "print('Test Accuracy: %.2f' % (test_acc*100))"
   ]
  },
  {
   "cell_type": "markdown",
   "metadata": {},
   "source": [
    "## Decision Boundary  (Just Execute)"
   ]
  },
  {
   "cell_type": "code",
   "execution_count": 128,
   "metadata": {},
   "outputs": [
    {
     "data": {
      "image/png": "[encoded data removed]",
      "text/plain": [
       "<Figure size 504x216 with 2 Axes>"
      ]
     },
     "metadata": {},
     "output_type": "display_data"
    }
   ],
   "source": [
    "##########################\n",
    "### 2D Decision Boundary\n",
    "##########################\n",
    "\n",
    "w, b = model.weights, model.bias\n",
    "\n",
    "x_min = -3\n",
    "y_min = ( (-(w[0] * x_min) - b[0]) \n",
    "          / w[1] )\n",
    "\n",
    "x_max = 3\n",
    "y_max = ( (-(w[0] * x_max) - b[0]) \n",
    "          / w[1] )\n",
    "\n",
    "\n",
    "fig, ax = plt.subplots(1, 2, sharex=True, figsize=(7, 3))\n",
    "\n",
    "ax[0].plot([x_min, x_max], [y_min, y_max])\n",
    "ax[1].plot([x_min, x_max], [y_min, y_max])\n",
    "\n",
    "ax[0].scatter(X_train[y_train==0, 0], X_train[y_train==0, 1], label='class 0', marker='o')\n",
    "ax[0].scatter(X_train[y_train==1, 0], X_train[y_train==1, 1], label='class 1', marker='s')\n",
    "\n",
    "ax[1].scatter(X_test[y_test==0, 0], X_test[y_test==0, 1], label='class 0', marker='o')\n",
    "ax[1].scatter(X_test[y_test==1, 0], X_test[y_test==1, 1], label='class 1', marker='s')\n",
    "\n",
    "ax[1].legend(loc='upper left')\n",
    "plt.show()"
   ]
  },
  {
   "cell_type": "code",
   "execution_count": null,
   "metadata": {},
   "outputs": [],
   "source": []
  }
 ],
 "metadata": {
  "kernelspec": {
   "display_name": "Python 3",
   "language": "python",
   "name": "python3"
  },
  "language_info": {
   "codemirror_mode": {
    "name": "ipython",
    "version": 3
   },
   "file_extension": ".py",
   "mimetype": "text/x-python",
   "name": "python",
   "nbconvert_exporter": "python",
   "pygments_lexer": "ipython3",
   "version": "3.6.5"
  },
  "toc": {
   "base_numbering": 1,
   "nav_menu": {},
   "number_sections": true,
   "sideBar": true,
   "skip_h1_title": false,
   "title_cell": "Table of Contents",
   "title_sidebar": "Contents",
   "toc_cell": false,
   "toc_position": {},
   "toc_section_display": true,
   "toc_window_display": false
  }
 },
 "nbformat": 4,
 "nbformat_minor": 2
}
