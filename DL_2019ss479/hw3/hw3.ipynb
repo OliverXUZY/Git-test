{
 "cells": [
  {
   "cell_type": "markdown",
   "metadata": {},
   "source": [
    "STAT 479: Deep Learning (Spring 2019)  \n",
    "Instructor: Sebastian Raschka (sraschka@wisc.edu)  \n",
    "Course website: http://pages.stat.wisc.edu/~sraschka/teaching/stat479-ss2019/  \n",
    "GitHub repository: https://github.com/rasbt/stat479-deep-learning-ss19\n",
    "\n",
    "---"
   ]
  },
  {
   "cell_type": "code",
   "execution_count": 1,
   "metadata": {},
   "outputs": [
    {
     "name": "stdout",
     "output_type": "stream",
     "text": [
      "Zhuoyan_XU \n",
      "\n",
      "CPython 3.6.8\n",
      "IPython 7.4.0\n",
      "\n",
      "matplotlib 3.0.2\n",
      "torch 1.0.1\n",
      "pandas 0.24.2\n",
      "numpy 1.15.2\n",
      "PIL 5.4.1\n"
     ]
    }
   ],
   "source": [
    "%load_ext watermark\n",
    "%watermark -a 'Zhuoyan_XU' -v -p matplotlib,torch,pandas,numpy,PIL"
   ]
  },
  {
   "cell_type": "markdown",
   "metadata": {},
   "source": [
    "Note that Python's Imaging Library (PIL) can be installed via \n",
    "\n",
    "    conda install pillow \n",
    "\n",
    "**If you have any installation issues, please don't hesitate to ask via Piazza!**"
   ]
  },
  {
   "cell_type": "markdown",
   "metadata": {},
   "source": [
    "# HW 3: Training and Tuning a Multilayer Perceptron (40 pts)"
   ]
  },
  {
   "cell_type": "markdown",
   "metadata": {},
   "source": [
    "**Your task in this homework is to take this existing Multilayer Perceptron implementation and change it to achieve a better performance on the simple dataset I provided.**\n",
    "\n",
    "---\n",
    "<font color='darkred'>\n",
    "For the successfull outcome of this homework:\n",
    "    \n",
    "- Your Validation and Test set accuracies should be >= 92%\n",
    "- Answer the questions at the bottom of this notebook\n",
    "- Submit this Jupyter Notebook with your modifications as .ipynb and .html file to Canvas (similar to previous homeworks)\n",
    "</font>\n",
    "---\n",
    "\n",
    "**NOTE: Because of the relatively large size (~50 Mb), you need to obtain the dataset from the following link: https://sebastianraschka.com/share/stat479-ss2019/hw3/png-files.zip** (should have very fast download speed). Download this .zip archive and place it into the same directory as your Jupyter Notebook and the .csv files (train.csv, test.csv, valid.csv). Then unzip it. This folder contains ~90,000 images and will take ~300 Mb of hard drive space unzipped.\n",
    "\n",
    "---"
   ]
  },
  {
   "cell_type": "markdown",
   "metadata": {},
   "source": [
    "Please read and execute this notebook first to make sure everything works correctly. Then, feel free to make any changes to the architecture, i.e., you can change\n",
    "\n",
    "- the number of layers\n",
    "- the activation function(s) (logistic sigmoid, tanh, relu, leaky relu, ...)\n",
    "- the learning rate\n",
    "- the number of hidden layers\n",
    "- the number of units in the hidden layer(s)\n",
    "- the number of epochs\n",
    "- the minibatch size\n",
    "\n",
    "However,\n",
    "\n",
    "- don't change the weight initialization\n",
    "- don't change the random seed\n",
    "- don't change the optimization algorithm"
   ]
  },
  {
   "cell_type": "code",
   "execution_count": 2,
   "metadata": {},
   "outputs": [],
   "source": [
    "import torch\n",
    "import os\n",
    "import pandas as pd\n",
    "import numpy as np\n",
    "import time\n",
    "from PIL import Image\n",
    "from torch.utils.data import Dataset\n",
    "from torchvision import transforms\n",
    "from torch.utils.data import DataLoader\n",
    "import torch.nn.functional as F\n",
    "import matplotlib.pyplot as plt\n",
    "%matplotlib inline"
   ]
  },
  {
   "cell_type": "code",
   "execution_count": 3,
   "metadata": {},
   "outputs": [],
   "source": [
    "# No need to change anything here!\n",
    "# If there is a GPU available, it will use it,\n",
    "# otherwise, it will use the CPU\n",
    "\n",
    "RANDOM_SEED = 123\n",
    "DEVICE = torch.device('cuda:0' if torch.cuda.is_available() else 'cpu')\n",
    "\n",
    "# NOTE: I actually noticed that this code runs faster on the CPU than on the\n",
    "# GPU, because the dataset is so small. However, you are encouraged to try\n",
    "# out training on a GPU, e.g., via Google Colab or Google Cloud engine\n",
    "# (see Lecture 07)"
   ]
  },
  {
   "cell_type": "markdown",
   "metadata": {},
   "source": [
    "# Loading the Dataset"
   ]
  },
  {
   "cell_type": "markdown",
   "metadata": {},
   "source": [
    "The dataset consists of 3 classes:\n",
    "- Drawings of \"birds\" (class 0)\n",
    "- Drawings of \"pizzas\" (class 1)\n",
    "- Drawings of \"screwdrivers\" (class 2)\n",
    "\n",
    "(The dataset is based on Google Quickdraw: I wrote a script to fetch the images from the database here: https://quickdraw.withgoogle.com/data)"
   ]
  },
  {
   "cell_type": "markdown",
   "metadata": {},
   "source": [
    "The dataset is very small on purpose so that the training should be relatively fast (but this wouldn't be an ideal DL dataset because of its small size)."
   ]
  },
  {
   "cell_type": "code",
   "execution_count": 4,
   "metadata": {},
   "outputs": [
    {
     "name": "stdout",
     "output_type": "stream",
     "text": [
      "Class distribution Train [8005 7669 6826]\n"
     ]
    }
   ],
   "source": [
    "df_train = pd.read_csv('train.csv')\n",
    "print('Class distribution Train', np.bincount(df_train['Class Label'].values))"
   ]
  },
  {
   "cell_type": "markdown",
   "metadata": {},
   "source": [
    "The images are 28x28 dimensional (grayscale)."
   ]
  },
  {
   "cell_type": "markdown",
   "metadata": {},
   "source": [
    "Some examples:"
   ]
  },
  {
   "cell_type": "code",
   "execution_count": 5,
   "metadata": {},
   "outputs": [
    {
     "name": "stdout",
     "output_type": "stream",
     "text": [
      "png-files\\bird_000043.png\n"
     ]
    },
    {
     "data": {
      "image/png": "[encoded data removed]",
      "text/plain": [
       "<Figure size 432x288 with 1 Axes>"
      ]
     },
     "metadata": {
      "needs_background": "light"
     },
     "output_type": "display_data"
    },
    {
     "name": "stdout",
     "output_type": "stream",
     "text": [
      "png-files\\bird_000107.png\n"
     ]
    },
    {
     "data": {
      "image/png": "[encoded data removed]",
      "text/plain": [
       "<Figure size 432x288 with 1 Axes>"
      ]
     },
     "metadata": {
      "needs_background": "light"
     },
     "output_type": "display_data"
    },
    {
     "name": "stdout",
     "output_type": "stream",
     "text": [
      "png-files\\pizza_000000.png\n"
     ]
    },
    {
     "data": {
      "image/png": "[encoded data removed]",
      "text/plain": [
       "<Figure size 432x288 with 1 Axes>"
      ]
     },
     "metadata": {
      "needs_background": "light"
     },
     "output_type": "display_data"
    },
    {
     "name": "stdout",
     "output_type": "stream",
     "text": [
      "png-files\\pizza_000002.png\n"
     ]
    },
    {
     "data": {
      "image/png": "[encoded data removed]",
      "text/plain": [
       "<Figure size 432x288 with 1 Axes>"
      ]
     },
     "metadata": {
      "needs_background": "light"
     },
     "output_type": "display_data"
    },
    {
     "name": "stdout",
     "output_type": "stream",
     "text": [
      "png-files\\screwdriver_000001.png\n"
     ]
    },
    {
     "data": {
      "image/png": "[encoded data removed]",
      "text/plain": [
       "<Figure size 432x288 with 1 Axes>"
      ]
     },
     "metadata": {
      "needs_background": "light"
     },
     "output_type": "display_data"
    },
    {
     "name": "stdout",
     "output_type": "stream",
     "text": [
      "png-files\\screwdriver_000012.png\n"
     ]
    },
    {
     "data": {
      "image/png": "[encoded data removed]",
      "text/plain": [
       "<Figure size 432x288 with 1 Axes>"
      ]
     },
     "metadata": {
      "needs_background": "light"
     },
     "output_type": "display_data"
    }
   ],
   "source": [
    "import glob\n",
    "image_paths = sorted(glob.glob('png-files/*.png'))\n",
    "for i in (12, 25, 30000, 30001, 60000, 60005):\n",
    "    im_path = image_paths[i]\n",
    "    print(im_path)\n",
    "    im = Image.open(im_path)\n",
    "    plt.imshow(im)\n",
    "    plt.show()"
   ]
  },
  {
   "cell_type": "markdown",
   "metadata": {},
   "source": [
    "---\n",
    "\n",
    "- The only thing you should change in this section during experimenting is the batch size\n",
    "- However, it is not required to make changes to the batch size"
   ]
  },
  {
   "cell_type": "code",
   "execution_count": 6,
   "metadata": {},
   "outputs": [],
   "source": [
    "class QuickdrawDataset(Dataset):\n",
    "    \"\"\"Custom Dataset for loading Quickdraw images\"\"\"\n",
    "\n",
    "    def __init__(self, csv_path, img_dir, transform=None):\n",
    "    \n",
    "        df = pd.read_csv(csv_path)\n",
    "        self.img_dir = img_dir\n",
    "        self.img_names = df['Filename'].values\n",
    "        self.y = df['Class Label'].values\n",
    "        self.transform = transform\n",
    "\n",
    "    def __getitem__(self, index):\n",
    "        img = Image.open(os.path.join(self.img_dir,\n",
    "                                      self.img_names[index]))\n",
    "        \n",
    "        if self.transform is not None:\n",
    "            img = self.transform(img)\n",
    "        \n",
    "        label = self.y[index]\n",
    "        return img, label\n",
    "\n",
    "    def __len__(self):\n",
    "        return self.y.shape[0]"
   ]
  },
  {
   "cell_type": "code",
   "execution_count": 7,
   "metadata": {},
   "outputs": [],
   "source": [
    "# Note that transforms.ToTensor()\n",
    "# already divides pixels by 255. internally\n",
    "\n",
    "custom_transform = transforms.Compose([#transforms.Lambda(lambda x: x/255.),\n",
    "                                       transforms.ToTensor()])\n",
    "\n",
    "\n",
    "train_dataset = QuickdrawDataset(csv_path='train.csv',\n",
    "                                 img_dir='png-files/',\n",
    "                                 transform=custom_transform)\n",
    "\n",
    "train_loader = DataLoader(dataset=train_dataset,\n",
    "                          batch_size=150, #### CHANGE IF YOU LIKE\n",
    "                          shuffle=True,\n",
    "                          num_workers=0)\n",
    "\n",
    "\n",
    "valid_dataset = QuickdrawDataset(csv_path='valid.csv',\n",
    "                                 img_dir='png-files/',\n",
    "                                 transform=custom_transform)\n",
    "\n",
    "valid_loader = DataLoader(dataset=valid_dataset,\n",
    "                          batch_size=150,\n",
    "                          shuffle=False,\n",
    "                          num_workers=0)\n",
    "\n",
    "test_dataset = QuickdrawDataset(csv_path='test.csv',\n",
    "                                img_dir='png-files/',\n",
    "                                transform=custom_transform)\n",
    "\n",
    "test_loader = DataLoader(dataset=test_dataset,\n",
    "                         batch_size=150,\n",
    "                         shuffle=False,\n",
    "                         num_workers=0)"
   ]
  },
  {
   "cell_type": "markdown",
   "metadata": {},
   "source": [
    "The cell below just checks if the dataset can be loaded correctly."
   ]
  },
  {
   "cell_type": "code",
   "execution_count": 8,
   "metadata": {},
   "outputs": [
    {
     "name": "stdout",
     "output_type": "stream",
     "text": [
      "Epoch: 1 | Batch index: 0 | Batch size: 150\n",
      "break minibatch for-loop\n",
      "Epoch: 2 | Batch index: 0 | Batch size: 150\n",
      "break minibatch for-loop\n"
     ]
    }
   ],
   "source": [
    "torch.manual_seed(0)\n",
    "\n",
    "num_epochs = 2\n",
    "for epoch in range(num_epochs):\n",
    "\n",
    "    for batch_idx, (x, y) in enumerate(train_loader):\n",
    "        \n",
    "        print('Epoch:', epoch+1, end='')\n",
    "        print(' | Batch index:', batch_idx, end='')\n",
    "        print(' | Batch size:', y.size()[0])\n",
    "        \n",
    "        x = x.to(DEVICE)\n",
    "        y = y.to(DEVICE)\n",
    "        \n",
    "        print('break minibatch for-loop')\n",
    "        break"
   ]
  },
  {
   "cell_type": "markdown",
   "metadata": {},
   "source": [
    "If you get an error, make sure the `png-files` folder is unzipped and it the same directory as this notebook!"
   ]
  },
  {
   "cell_type": "markdown",
   "metadata": {},
   "source": [
    "# Multilayer Perceptron Model"
   ]
  },
  {
   "cell_type": "markdown",
   "metadata": {},
   "source": [
    "The cell below contains the multi-layer perceptron model. This is the main section where you want to make changes to the architecture."
   ]
  },
  {
   "cell_type": "code",
   "execution_count": 9,
   "metadata": {},
   "outputs": [],
   "source": [
    "class MLP(torch.nn.Module):\n",
    "\n",
    "    def __init__(self, num_features, num_hidden_1, num_hidden_2, num_hidden_3, num_classes):\n",
    "        super(MLP, self).__init__()\n",
    "        \n",
    "        self.num_classes = num_classes\n",
    "        \n",
    "        ### ADD ADDITIONAL LAYERS BELOW IF YOU LIKE\n",
    "        self.linear_1 = torch.nn.Linear(num_features, num_hidden_1)\n",
    "        self.linear_2 = torch.nn.Linear(num_hidden_1,num_hidden_2)\n",
    "        self.linear_3 = torch.nn.Linear(num_hidden_2,num_hidden_3)\n",
    "        self.linear_out = torch.nn.Linear(num_hidden_3, num_classes)\n",
    "        \n",
    "    def forward(self, x):\n",
    "        \n",
    "        ### MAKE SURE YOU CONNECT THE LAYERS PROPERLY IF YOU CHANGED\n",
    "        ### ANYTHNG IN THE __init__ METHOD ABOVE\n",
    "        out_1 = self.linear_1(x)\n",
    "        out_1 = torch.relu(out_1)\n",
    "        out_2 = self.linear_2(out_1)\n",
    "        out_2 = torch.relu(out_2)\n",
    "        out_3 = self.linear_3(out_2)\n",
    "        #out_3 = torch.relu(out_3)\n",
    "        #out = torch.sigmoid(out_2)\n",
    "        out = torch.sigmoid(out_3)\n",
    "        \n",
    "        logits = self.linear_out(out)\n",
    "        probas = F.softmax(logits, dim=1)\n",
    "        return logits, probas\n",
    "\n",
    "    \n",
    "#################################\n",
    "### Model Initialization\n",
    "#################################\n",
    "\n",
    "\n",
    "# the random seed makes sure that the random weight initialization\n",
    "# in the model is always the same.\n",
    "# In practice, some weights don't work well, and we may also want\n",
    "# to try different random seeds. In this homework, this is not\n",
    "# necessary.\n",
    "torch.manual_seed(RANDOM_SEED)\n",
    "\n",
    "### IF YOU CHANGED THE ARCHITECTURE ABOVE, MAKE SURE YOU \n",
    "### ACCOUNT FOR IT VIA THE PARAMETERS BELOW. I.e., if you\n",
    "### added a second hidden layer, you may want to add a\n",
    "### hidden_2 parameter here. Also you may want to play\n",
    "### with the number of hidden units.\n",
    "model = MLP(num_features=28*28,\n",
    "            num_hidden_1=30,\n",
    "            num_hidden_2=40,\n",
    "            num_hidden_3=30,\n",
    "            num_classes=3)\n",
    "\n",
    "model = model.to(DEVICE)\n",
    "\n",
    "\n",
    "### For this homework, do not change the optimizer. However, you\n",
    "### likely want to experiment with the learning rate!\n",
    "optimizer = torch.optim.SGD(model.parameters(), lr=0.20)"
   ]
  },
  {
   "cell_type": "code",
   "execution_count": 10,
   "metadata": {},
   "outputs": [
    {
     "name": "stdout",
     "output_type": "stream",
     "text": [
      "Epoch: 001/020 | Batch 000/150 | Cost: 1.1041\n",
      "Epoch: 001/020 | Batch 050/150 | Cost: 1.0967\n",
      "Epoch: 001/020 | Batch 100/150 | Cost: 0.8593\n",
      "Epoch: 001/020 Train Cost: 0.6101\n",
      "Train Accuracy: 76.356 | Validation Accuracy: 76.480\n",
      "Time elapsed: 0.75 min\n",
      "Epoch: 002/020 | Batch 000/150 | Cost: 0.6573\n",
      "Epoch: 002/020 | Batch 050/150 | Cost: 0.6053\n",
      "Epoch: 002/020 | Batch 100/150 | Cost: 0.5385\n",
      "Epoch: 002/020 Train Cost: 0.4438\n",
      "Train Accuracy: 83.298 | Validation Accuracy: 84.520\n",
      "Time elapsed: 1.47 min\n",
      "Epoch: 003/020 | Batch 000/150 | Cost: 0.4867\n",
      "Epoch: 003/020 | Batch 050/150 | Cost: 0.3951\n",
      "Epoch: 003/020 | Batch 100/150 | Cost: 0.2942\n",
      "Epoch: 003/020 Train Cost: 0.3418\n",
      "Train Accuracy: 88.569 | Validation Accuracy: 88.080\n",
      "Time elapsed: 2.22 min\n",
      "Epoch: 004/020 | Batch 000/150 | Cost: 0.3371\n",
      "Epoch: 004/020 | Batch 050/150 | Cost: 0.3965\n",
      "Epoch: 004/020 | Batch 100/150 | Cost: 0.2079\n",
      "Epoch: 004/020 Train Cost: 0.3226\n",
      "Train Accuracy: 88.987 | Validation Accuracy: 88.440\n",
      "Time elapsed: 3.00 min\n",
      "Epoch: 005/020 | Batch 000/150 | Cost: 0.3328\n",
      "Epoch: 005/020 | Batch 050/150 | Cost: 0.3936\n",
      "Epoch: 005/020 | Batch 100/150 | Cost: 0.2316\n",
      "Epoch: 005/020 Train Cost: 0.2932\n",
      "Train Accuracy: 90.444 | Validation Accuracy: 89.480\n",
      "Time elapsed: 3.79 min\n",
      "Epoch: 006/020 | Batch 000/150 | Cost: 0.3801\n",
      "Epoch: 006/020 | Batch 050/150 | Cost: 0.3965\n",
      "Epoch: 006/020 | Batch 100/150 | Cost: 0.2373\n",
      "Epoch: 006/020 Train Cost: 0.3549\n",
      "Train Accuracy: 86.960 | Validation Accuracy: 86.240\n",
      "Time elapsed: 4.57 min\n",
      "Epoch: 007/020 | Batch 000/150 | Cost: 0.3308\n",
      "Epoch: 007/020 | Batch 050/150 | Cost: 0.3148\n",
      "Epoch: 007/020 | Batch 100/150 | Cost: 0.1735\n",
      "Epoch: 007/020 Train Cost: 0.2531\n",
      "Train Accuracy: 91.729 | Validation Accuracy: 90.640\n",
      "Time elapsed: 5.35 min\n",
      "Epoch: 008/020 | Batch 000/150 | Cost: 0.3379\n",
      "Epoch: 008/020 | Batch 050/150 | Cost: 0.3480\n",
      "Epoch: 008/020 | Batch 100/150 | Cost: 0.2451\n",
      "Epoch: 008/020 Train Cost: 0.2317\n",
      "Train Accuracy: 92.604 | Validation Accuracy: 91.120\n",
      "Time elapsed: 6.17 min\n",
      "Epoch: 009/020 | Batch 000/150 | Cost: 0.2552\n",
      "Epoch: 009/020 | Batch 050/150 | Cost: 0.2811\n",
      "Epoch: 009/020 | Batch 100/150 | Cost: 0.2466\n",
      "Epoch: 009/020 Train Cost: 0.2211\n",
      "Train Accuracy: 93.062 | Validation Accuracy: 91.560\n",
      "Time elapsed: 6.97 min\n",
      "Epoch: 010/020 | Batch 000/150 | Cost: 0.3350\n",
      "Epoch: 010/020 | Batch 050/150 | Cost: 0.1959\n",
      "Epoch: 010/020 | Batch 100/150 | Cost: 0.2358\n",
      "Epoch: 010/020 Train Cost: 0.2510\n",
      "Train Accuracy: 91.147 | Validation Accuracy: 88.800\n",
      "Time elapsed: 7.67 min\n",
      "Epoch: 011/020 | Batch 000/150 | Cost: 0.2528\n",
      "Epoch: 011/020 | Batch 050/150 | Cost: 0.1463\n",
      "Epoch: 011/020 | Batch 100/150 | Cost: 0.1692\n",
      "Epoch: 011/020 Train Cost: 0.1919\n",
      "Train Accuracy: 94.102 | Validation Accuracy: 91.520\n",
      "Time elapsed: 8.41 min\n",
      "Epoch: 012/020 | Batch 000/150 | Cost: 0.2004\n",
      "Epoch: 012/020 | Batch 050/150 | Cost: 0.1971\n",
      "Epoch: 012/020 | Batch 100/150 | Cost: 0.2000\n",
      "Epoch: 012/020 Train Cost: 0.1801\n",
      "Train Accuracy: 94.604 | Validation Accuracy: 92.080\n",
      "Time elapsed: 9.21 min\n",
      "Epoch: 013/020 | Batch 000/150 | Cost: 0.1582\n",
      "Epoch: 013/020 | Batch 050/150 | Cost: 0.1540\n",
      "Epoch: 013/020 | Batch 100/150 | Cost: 0.1799\n",
      "Epoch: 013/020 Train Cost: 0.2017\n",
      "Train Accuracy: 93.351 | Validation Accuracy: 90.760\n",
      "Time elapsed: 9.99 min\n",
      "Epoch: 014/020 | Batch 000/150 | Cost: 0.1088\n",
      "Epoch: 014/020 | Batch 050/150 | Cost: 0.1273\n",
      "Epoch: 014/020 | Batch 100/150 | Cost: 0.1885\n",
      "Epoch: 014/020 Train Cost: 0.1651\n",
      "Train Accuracy: 94.942 | Validation Accuracy: 91.880\n",
      "Time elapsed: 10.81 min\n",
      "Epoch: 015/020 | Batch 000/150 | Cost: 0.1123\n",
      "Epoch: 015/020 | Batch 050/150 | Cost: 0.1507\n",
      "Epoch: 015/020 | Batch 100/150 | Cost: 0.1582\n",
      "Epoch: 015/020 Train Cost: 0.1628\n",
      "Train Accuracy: 94.960 | Validation Accuracy: 91.680\n",
      "Time elapsed: 11.57 min\n",
      "Epoch: 016/020 | Batch 000/150 | Cost: 0.1347\n",
      "Epoch: 016/020 | Batch 050/150 | Cost: 0.2246\n",
      "Epoch: 016/020 | Batch 100/150 | Cost: 0.1920\n",
      "Epoch: 016/020 Train Cost: 0.1502\n",
      "Train Accuracy: 95.413 | Validation Accuracy: 91.720\n",
      "Time elapsed: 12.34 min\n",
      "Epoch: 017/020 | Batch 000/150 | Cost: 0.1860\n",
      "Epoch: 017/020 | Batch 050/150 | Cost: 0.1387\n",
      "Epoch: 017/020 | Batch 100/150 | Cost: 0.1433\n",
      "Epoch: 017/020 Train Cost: 0.1484\n",
      "Train Accuracy: 95.471 | Validation Accuracy: 91.840\n",
      "Time elapsed: 13.12 min\n",
      "Epoch: 018/020 | Batch 000/150 | Cost: 0.1562\n",
      "Epoch: 018/020 | Batch 050/150 | Cost: 0.1503\n",
      "Epoch: 018/020 | Batch 100/150 | Cost: 0.2044\n",
      "Epoch: 018/020 Train Cost: 0.1431\n",
      "Train Accuracy: 95.480 | Validation Accuracy: 91.920\n",
      "Time elapsed: 13.92 min\n",
      "Epoch: 019/020 | Batch 000/150 | Cost: 0.1053\n",
      "Epoch: 019/020 | Batch 050/150 | Cost: 0.1560\n",
      "Epoch: 019/020 | Batch 100/150 | Cost: 0.1606\n",
      "Epoch: 019/020 Train Cost: 0.1278\n",
      "Train Accuracy: 96.133 | Validation Accuracy: 92.200\n",
      "Time elapsed: 14.73 min\n",
      "Epoch: 020/020 | Batch 000/150 | Cost: 0.1044\n",
      "Epoch: 020/020 | Batch 050/150 | Cost: 0.1624\n",
      "Epoch: 020/020 | Batch 100/150 | Cost: 0.1306\n",
      "Epoch: 020/020 Train Cost: 0.1232\n",
      "Train Accuracy: 96.302 | Validation Accuracy: 92.120\n",
      "Time elapsed: 15.53 min\n",
      "Total Training Time: 15.53 min\n"
     ]
    }
   ],
   "source": [
    "#################################\n",
    "### Training\n",
    "#################################\n",
    "\n",
    "\n",
    "################################################\n",
    "# PLEASE DON'T CHANGE THE compute_epoch_loss\n",
    "# and the compute accuracy functions\n",
    "###############################################\n",
    "\n",
    "def compute_epoch_loss(model, data_loader):\n",
    "    curr_loss, num_examples = 0., 0\n",
    "    with torch.no_grad():\n",
    "        for features, targets in data_loader:\n",
    "            features = features.view(-1, 28*28).to(DEVICE)\n",
    "            targets = targets.to(DEVICE)\n",
    "            logits, probas = model(features)\n",
    "            loss = F.cross_entropy(logits, targets, reduction='sum')\n",
    "            num_examples += targets.size(0)\n",
    "            curr_loss += loss\n",
    "\n",
    "        curr_loss = curr_loss / num_examples\n",
    "        return curr_loss\n",
    "\n",
    "    \n",
    "def compute_accuracy(model, data_loader):\n",
    "    correct_pred, num_examples = 0, 0\n",
    "    with torch.no_grad():\n",
    "        for features, targets in data_loader:\n",
    "            features = features.view(-1, 28*28).to(DEVICE)\n",
    "            targets = targets.to(DEVICE)\n",
    "            logits, probas = model.forward(features)\n",
    "            predicted_labels = torch.argmax(probas, 1)\n",
    "            num_examples += targets.size(0)\n",
    "            correct_pred += (predicted_labels == targets).sum()\n",
    "        return correct_pred.float()/num_examples * 100\n",
    "    \n",
    "\n",
    "\n",
    "start_time = time.time()\n",
    "minibatch_cost = []\n",
    "epoch_cost = []\n",
    "\n",
    "#################################################################\n",
    "### NO NEED TO CHANGE ANYTHING BELOW. HOWEVER, YOU CAN CHANGE\n",
    "### THE NUMBER OF EPOCHS IF YOU LIKE\n",
    "#################################################################\n",
    "\n",
    "NUM_EPOCHS = 20 # Please feel free to change\n",
    "\n",
    "for epoch in range(NUM_EPOCHS):\n",
    "    model.train()\n",
    "    for batch_idx, (features, targets) in enumerate(train_loader):\n",
    "        \n",
    "        features = features.view(-1, 28*28).to(DEVICE)\n",
    "        targets = targets.to(DEVICE)\n",
    "            \n",
    "        ### FORWARD AND BACK PROP\n",
    "        logits, probas = model(features)\n",
    "        \n",
    "        cost = F.cross_entropy(logits, targets)\n",
    "        optimizer.zero_grad()\n",
    "        \n",
    "        cost.backward()\n",
    "        minibatch_cost.append(cost)\n",
    "        ### UPDATE MODEL PARAMETERS\n",
    "        optimizer.step()\n",
    "        \n",
    "        ### LOGGING\n",
    "        if not batch_idx % 50:\n",
    "            print ('Epoch: %03d/%03d | Batch %03d/%03d | Cost: %.4f' \n",
    "                   %(epoch+1, NUM_EPOCHS, batch_idx, \n",
    "                     len(train_loader), cost))\n",
    "        \n",
    "    model.eval()\n",
    "    cost = compute_epoch_loss(model, train_loader)\n",
    "    epoch_cost.append(cost)\n",
    "    \n",
    "    train_accuracy = compute_accuracy(model, train_loader)\n",
    "    valid_accuracy = compute_accuracy(model, valid_loader)\n",
    "    \n",
    "    print('Epoch: %03d/%03d Train Cost: %.4f' % (\n",
    "            epoch+1, NUM_EPOCHS, cost))\n",
    "    print('Train Accuracy: %.3f | Validation Accuracy: %.3f' % (train_accuracy, valid_accuracy))\n",
    "    print('Time elapsed: %.2f min' % ((time.time() - start_time)/60))\n",
    "    \n",
    "print('Total Training Time: %.2f min' % ((time.time() - start_time)/60))"
   ]
  },
  {
   "cell_type": "markdown",
   "metadata": {},
   "source": [
    "# Evaluation (No Need To Change Any Code in This Section!)"
   ]
  },
  {
   "cell_type": "code",
   "execution_count": 11,
   "metadata": {},
   "outputs": [
    {
     "data": {
      "image/png": "[encoded data removed]",
      "text/plain": [
       "<Figure size 432x288 with 1 Axes>"
      ]
     },
     "metadata": {},
     "output_type": "display_data"
    },
    {
     "data": {
      "image/png": "[encoded data removed]",
      "text/plain": [
       "<Figure size 432x288 with 1 Axes>"
      ]
     },
     "metadata": {},
     "output_type": "display_data"
    }
   ],
   "source": [
    "plt.plot(range(len(minibatch_cost)), minibatch_cost)\n",
    "plt.ylabel('Cross Entropy')\n",
    "plt.xlabel('Minibatch')\n",
    "plt.show()\n",
    "\n",
    "plt.plot(range(len(epoch_cost)), epoch_cost)\n",
    "plt.ylabel('Cross Entropy')\n",
    "plt.xlabel('Epoch')\n",
    "plt.show()"
   ]
  },
  {
   "cell_type": "code",
   "execution_count": 12,
   "metadata": {},
   "outputs": [
    {
     "name": "stdout",
     "output_type": "stream",
     "text": [
      "Test Accuracy: 92.17\n"
     ]
    }
   ],
   "source": [
    "print('Test Accuracy: %.2f' % compute_accuracy(model, test_loader))"
   ]
  },
  {
   "cell_type": "markdown",
   "metadata": {},
   "source": [
    "# Conclusions (YOUR ANSWERS REQUIRED)"
   ]
  },
  {
   "cell_type": "markdown",
   "metadata": {},
   "source": [
    "**1) What is your training, validation, and test accuracy (paste your numbers from above)? Also, do you notice any overfitting? If yes, why do you think your model is overfitting, and what would be a simple technique to reduce overfitting?**\n",
    "\n",
    "My training, validation, and test accuracy is 96.302, 92.120 and 92.17. Yes, I have overfitting, since the training accuracy is much higher than validation and test accuracy. I think the number of layers and number of hidden units caused overfitting. I think reduce the number if hidden units and hidden layers can reduce overfitting."
   ]
  },
  {
   "cell_type": "markdown",
   "metadata": {},
   "source": [
    "**2) What architectual changes did you make to improve the performance?**\n",
    "\n",
    "I change the learning rate. And I add two hidden layers meanwhile changing the number of units in the hidden layers. And I change the number of epochs, and the minibatch size."
   ]
  },
  {
   "cell_type": "markdown",
   "metadata": {},
   "source": [
    "**3) Assuming you increased the accuracy by 3%, how many more correct predictions did the improved model make in the test set?**\n",
    "\n",
    "There is 65000 observations in test set totally. Thus, if increase accuracy by 3%, there are $65000 \\times 0.03 = 1950$ more correct predictions that improved the model in test set."
   ]
  },
  {
   "cell_type": "code",
   "execution_count": null,
   "metadata": {},
   "outputs": [],
   "source": []
  }
 ],
 "metadata": {
  "kernelspec": {
   "display_name": "Python 3",
   "language": "python",
   "name": "python3"
  },
  "language_info": {
   "codemirror_mode": {
    "name": "ipython",
    "version": 3
   },
   "file_extension": ".py",
   "mimetype": "text/x-python",
   "name": "python",
   "nbconvert_exporter": "python",
   "pygments_lexer": "ipython3",
   "version": "3.6.8"
  }
 },
 "nbformat": 4,
 "nbformat_minor": 2
}
